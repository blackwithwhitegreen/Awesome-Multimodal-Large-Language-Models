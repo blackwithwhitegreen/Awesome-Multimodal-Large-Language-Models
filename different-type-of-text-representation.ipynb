{
 "cells": [
  {
   "cell_type": "code",
   "execution_count": 1,
   "id": "bdd2b39b",
   "metadata": {
    "_cell_guid": "b1076dfc-b9ad-4769-8c92-a6c4dae69d19",
    "_uuid": "8f2839f25d086af736a60e9eeb907d3b93b6e0e5",
    "execution": {
     "iopub.execute_input": "2025-04-21T07:02:32.140171Z",
     "iopub.status.busy": "2025-04-21T07:02:32.139426Z",
     "iopub.status.idle": "2025-04-21T07:02:34.312737Z",
     "shell.execute_reply": "2025-04-21T07:02:34.311455Z"
    },
    "papermill": {
     "duration": 2.181937,
     "end_time": "2025-04-21T07:02:34.314446",
     "exception": false,
     "start_time": "2025-04-21T07:02:32.132509",
     "status": "completed"
    },
    "tags": []
   },
   "outputs": [
    {
     "name": "stdout",
     "output_type": "stream",
     "text": [
      "/kaggle/input/twitter-entity-sentiment-analysis/twitter_validation.csv\n",
      "/kaggle/input/twitter-entity-sentiment-analysis/twitter_training.csv\n"
     ]
    }
   ],
   "source": [
    "# This Python 3 environment comes with many helpful analytics libraries installed\n",
    "# It is defined by the kaggle/python Docker image: https://github.com/kaggle/docker-python\n",
    "# For example, here's several helpful packages to load\n",
    "\n",
    "import numpy as np # linear algebra\n",
    "import pandas as pd # data processing, CSV file I/O (e.g. pd.read_csv)\n",
    "import warnings\n",
    "warnings.filterwarnings('ignore')\n",
    "\n",
    "# Input data files are available in the read-only \"../input/\" directory\n",
    "# For example, running this (by clicking run or pressing Shift+Enter) will list all files under the input directory\n",
    "\n",
    "import os\n",
    "for dirname, _, filenames in os.walk('/kaggle/input'):\n",
    "    for filename in filenames:\n",
    "        print(os.path.join(dirname, filename))\n",
    "\n",
    "# You can write up to 20GB to the current directory (/kaggle/working/) that gets preserved as output when you create a version using \"Save & Run All\" \n",
    "# You can also write temporary files to /kaggle/temp/, but they won't be saved outside of the current session"
   ]
  },
  {
   "cell_type": "markdown",
   "id": "1dae61c7",
   "metadata": {
    "papermill": {
     "duration": 0.004644,
     "end_time": "2025-04-21T07:02:34.324516",
     "exception": false,
     "start_time": "2025-04-21T07:02:34.319872",
     "status": "completed"
    },
    "tags": []
   },
   "source": [
    "# Data loading and preprocessing"
   ]
  },
  {
   "cell_type": "code",
   "execution_count": 2,
   "id": "b46af7e5",
   "metadata": {
    "execution": {
     "iopub.execute_input": "2025-04-21T07:02:34.335502Z",
     "iopub.status.busy": "2025-04-21T07:02:34.335045Z",
     "iopub.status.idle": "2025-04-21T07:02:34.776073Z",
     "shell.execute_reply": "2025-04-21T07:02:34.775042Z"
    },
    "papermill": {
     "duration": 0.448643,
     "end_time": "2025-04-21T07:02:34.777847",
     "exception": false,
     "start_time": "2025-04-21T07:02:34.329204",
     "status": "completed"
    },
    "tags": []
   },
   "outputs": [],
   "source": [
    "df_train= pd.read_csv(\"/kaggle/input/twitter-entity-sentiment-analysis/twitter_training.csv\")"
   ]
  },
  {
   "cell_type": "code",
   "execution_count": 3,
   "id": "f223eb57",
   "metadata": {
    "execution": {
     "iopub.execute_input": "2025-04-21T07:02:34.789016Z",
     "iopub.status.busy": "2025-04-21T07:02:34.788700Z",
     "iopub.status.idle": "2025-04-21T07:02:34.818455Z",
     "shell.execute_reply": "2025-04-21T07:02:34.817501Z"
    },
    "papermill": {
     "duration": 0.037385,
     "end_time": "2025-04-21T07:02:34.820206",
     "exception": false,
     "start_time": "2025-04-21T07:02:34.782821",
     "status": "completed"
    },
    "tags": []
   },
   "outputs": [
    {
     "data": {
      "text/html": [
       "<div>\n",
       "<style scoped>\n",
       "    .dataframe tbody tr th:only-of-type {\n",
       "        vertical-align: middle;\n",
       "    }\n",
       "\n",
       "    .dataframe tbody tr th {\n",
       "        vertical-align: top;\n",
       "    }\n",
       "\n",
       "    .dataframe thead th {\n",
       "        text-align: right;\n",
       "    }\n",
       "</style>\n",
       "<table border=\"1\" class=\"dataframe\">\n",
       "  <thead>\n",
       "    <tr style=\"text-align: right;\">\n",
       "      <th></th>\n",
       "      <th>2401</th>\n",
       "      <th>Borderlands</th>\n",
       "      <th>Positive</th>\n",
       "      <th>im getting on borderlands and i will murder you all ,</th>\n",
       "    </tr>\n",
       "  </thead>\n",
       "  <tbody>\n",
       "    <tr>\n",
       "      <th>0</th>\n",
       "      <td>2401</td>\n",
       "      <td>Borderlands</td>\n",
       "      <td>Positive</td>\n",
       "      <td>I am coming to the borders and I will kill you...</td>\n",
       "    </tr>\n",
       "    <tr>\n",
       "      <th>1</th>\n",
       "      <td>2401</td>\n",
       "      <td>Borderlands</td>\n",
       "      <td>Positive</td>\n",
       "      <td>im getting on borderlands and i will kill you ...</td>\n",
       "    </tr>\n",
       "    <tr>\n",
       "      <th>2</th>\n",
       "      <td>2401</td>\n",
       "      <td>Borderlands</td>\n",
       "      <td>Positive</td>\n",
       "      <td>im coming on borderlands and i will murder you...</td>\n",
       "    </tr>\n",
       "    <tr>\n",
       "      <th>3</th>\n",
       "      <td>2401</td>\n",
       "      <td>Borderlands</td>\n",
       "      <td>Positive</td>\n",
       "      <td>im getting on borderlands 2 and i will murder ...</td>\n",
       "    </tr>\n",
       "    <tr>\n",
       "      <th>4</th>\n",
       "      <td>2401</td>\n",
       "      <td>Borderlands</td>\n",
       "      <td>Positive</td>\n",
       "      <td>im getting into borderlands and i can murder y...</td>\n",
       "    </tr>\n",
       "    <tr>\n",
       "      <th>...</th>\n",
       "      <td>...</td>\n",
       "      <td>...</td>\n",
       "      <td>...</td>\n",
       "      <td>...</td>\n",
       "    </tr>\n",
       "    <tr>\n",
       "      <th>74676</th>\n",
       "      <td>9200</td>\n",
       "      <td>Nvidia</td>\n",
       "      <td>Positive</td>\n",
       "      <td>Just realized that the Windows partition of my...</td>\n",
       "    </tr>\n",
       "    <tr>\n",
       "      <th>74677</th>\n",
       "      <td>9200</td>\n",
       "      <td>Nvidia</td>\n",
       "      <td>Positive</td>\n",
       "      <td>Just realized that my Mac window partition is ...</td>\n",
       "    </tr>\n",
       "    <tr>\n",
       "      <th>74678</th>\n",
       "      <td>9200</td>\n",
       "      <td>Nvidia</td>\n",
       "      <td>Positive</td>\n",
       "      <td>Just realized the windows partition of my Mac ...</td>\n",
       "    </tr>\n",
       "    <tr>\n",
       "      <th>74679</th>\n",
       "      <td>9200</td>\n",
       "      <td>Nvidia</td>\n",
       "      <td>Positive</td>\n",
       "      <td>Just realized between the windows partition of...</td>\n",
       "    </tr>\n",
       "    <tr>\n",
       "      <th>74680</th>\n",
       "      <td>9200</td>\n",
       "      <td>Nvidia</td>\n",
       "      <td>Positive</td>\n",
       "      <td>Just like the windows partition of my Mac is l...</td>\n",
       "    </tr>\n",
       "  </tbody>\n",
       "</table>\n",
       "<p>74681 rows × 4 columns</p>\n",
       "</div>"
      ],
      "text/plain": [
       "       2401  Borderlands  Positive  \\\n",
       "0      2401  Borderlands  Positive   \n",
       "1      2401  Borderlands  Positive   \n",
       "2      2401  Borderlands  Positive   \n",
       "3      2401  Borderlands  Positive   \n",
       "4      2401  Borderlands  Positive   \n",
       "...     ...          ...       ...   \n",
       "74676  9200       Nvidia  Positive   \n",
       "74677  9200       Nvidia  Positive   \n",
       "74678  9200       Nvidia  Positive   \n",
       "74679  9200       Nvidia  Positive   \n",
       "74680  9200       Nvidia  Positive   \n",
       "\n",
       "      im getting on borderlands and i will murder you all ,  \n",
       "0      I am coming to the borders and I will kill you...     \n",
       "1      im getting on borderlands and i will kill you ...     \n",
       "2      im coming on borderlands and i will murder you...     \n",
       "3      im getting on borderlands 2 and i will murder ...     \n",
       "4      im getting into borderlands and i can murder y...     \n",
       "...                                                  ...     \n",
       "74676  Just realized that the Windows partition of my...     \n",
       "74677  Just realized that my Mac window partition is ...     \n",
       "74678  Just realized the windows partition of my Mac ...     \n",
       "74679  Just realized between the windows partition of...     \n",
       "74680  Just like the windows partition of my Mac is l...     \n",
       "\n",
       "[74681 rows x 4 columns]"
      ]
     },
     "execution_count": 3,
     "metadata": {},
     "output_type": "execute_result"
    }
   ],
   "source": [
    "df_train"
   ]
  },
  {
   "cell_type": "markdown",
   "id": "ebdc8f7c",
   "metadata": {
    "papermill": {
     "duration": 0.004685,
     "end_time": "2025-04-21T07:02:34.830111",
     "exception": false,
     "start_time": "2025-04-21T07:02:34.825426",
     "status": "completed"
    },
    "tags": []
   },
   "source": [
    "**- Changeing columns name and shifting data in Zeroth row.**"
   ]
  },
  {
   "cell_type": "code",
   "execution_count": 4,
   "id": "7ddcdb94",
   "metadata": {
    "execution": {
     "iopub.execute_input": "2025-04-21T07:02:34.841227Z",
     "iopub.status.busy": "2025-04-21T07:02:34.840874Z",
     "iopub.status.idle": "2025-04-21T07:02:34.875545Z",
     "shell.execute_reply": "2025-04-21T07:02:34.874705Z"
    },
    "papermill": {
     "duration": 0.042352,
     "end_time": "2025-04-21T07:02:34.877332",
     "exception": false,
     "start_time": "2025-04-21T07:02:34.834980",
     "status": "completed"
    },
    "tags": []
   },
   "outputs": [],
   "source": [
    "current_col = df_train.columns.tolist()\n",
    "\n",
    "df_train.loc[-1] = current_col\n",
    "df_train.index = df_train.index+1\n",
    "df_train = df_train.sort_index()\n",
    "\n",
    "df_train.columns = ['tweet_id','entity','sentiment','text']\n",
    "\n",
    "df_train.reset_index(drop=True,inplace=True)\n"
   ]
  },
  {
   "cell_type": "code",
   "execution_count": 5,
   "id": "a41a57bd",
   "metadata": {
    "execution": {
     "iopub.execute_input": "2025-04-21T07:02:34.889080Z",
     "iopub.status.busy": "2025-04-21T07:02:34.888732Z",
     "iopub.status.idle": "2025-04-21T07:02:34.900090Z",
     "shell.execute_reply": "2025-04-21T07:02:34.899221Z"
    },
    "papermill": {
     "duration": 0.018985,
     "end_time": "2025-04-21T07:02:34.901504",
     "exception": false,
     "start_time": "2025-04-21T07:02:34.882519",
     "status": "completed"
    },
    "tags": []
   },
   "outputs": [
    {
     "data": {
      "text/html": [
       "<div>\n",
       "<style scoped>\n",
       "    .dataframe tbody tr th:only-of-type {\n",
       "        vertical-align: middle;\n",
       "    }\n",
       "\n",
       "    .dataframe tbody tr th {\n",
       "        vertical-align: top;\n",
       "    }\n",
       "\n",
       "    .dataframe thead th {\n",
       "        text-align: right;\n",
       "    }\n",
       "</style>\n",
       "<table border=\"1\" class=\"dataframe\">\n",
       "  <thead>\n",
       "    <tr style=\"text-align: right;\">\n",
       "      <th></th>\n",
       "      <th>tweet_id</th>\n",
       "      <th>entity</th>\n",
       "      <th>sentiment</th>\n",
       "      <th>text</th>\n",
       "    </tr>\n",
       "  </thead>\n",
       "  <tbody>\n",
       "    <tr>\n",
       "      <th>0</th>\n",
       "      <td>2401</td>\n",
       "      <td>Borderlands</td>\n",
       "      <td>Positive</td>\n",
       "      <td>im getting on borderlands and i will murder yo...</td>\n",
       "    </tr>\n",
       "    <tr>\n",
       "      <th>1</th>\n",
       "      <td>2401</td>\n",
       "      <td>Borderlands</td>\n",
       "      <td>Positive</td>\n",
       "      <td>I am coming to the borders and I will kill you...</td>\n",
       "    </tr>\n",
       "    <tr>\n",
       "      <th>2</th>\n",
       "      <td>2401</td>\n",
       "      <td>Borderlands</td>\n",
       "      <td>Positive</td>\n",
       "      <td>im getting on borderlands and i will kill you ...</td>\n",
       "    </tr>\n",
       "    <tr>\n",
       "      <th>3</th>\n",
       "      <td>2401</td>\n",
       "      <td>Borderlands</td>\n",
       "      <td>Positive</td>\n",
       "      <td>im coming on borderlands and i will murder you...</td>\n",
       "    </tr>\n",
       "    <tr>\n",
       "      <th>4</th>\n",
       "      <td>2401</td>\n",
       "      <td>Borderlands</td>\n",
       "      <td>Positive</td>\n",
       "      <td>im getting on borderlands 2 and i will murder ...</td>\n",
       "    </tr>\n",
       "    <tr>\n",
       "      <th>...</th>\n",
       "      <td>...</td>\n",
       "      <td>...</td>\n",
       "      <td>...</td>\n",
       "      <td>...</td>\n",
       "    </tr>\n",
       "    <tr>\n",
       "      <th>74677</th>\n",
       "      <td>9200</td>\n",
       "      <td>Nvidia</td>\n",
       "      <td>Positive</td>\n",
       "      <td>Just realized that the Windows partition of my...</td>\n",
       "    </tr>\n",
       "    <tr>\n",
       "      <th>74678</th>\n",
       "      <td>9200</td>\n",
       "      <td>Nvidia</td>\n",
       "      <td>Positive</td>\n",
       "      <td>Just realized that my Mac window partition is ...</td>\n",
       "    </tr>\n",
       "    <tr>\n",
       "      <th>74679</th>\n",
       "      <td>9200</td>\n",
       "      <td>Nvidia</td>\n",
       "      <td>Positive</td>\n",
       "      <td>Just realized the windows partition of my Mac ...</td>\n",
       "    </tr>\n",
       "    <tr>\n",
       "      <th>74680</th>\n",
       "      <td>9200</td>\n",
       "      <td>Nvidia</td>\n",
       "      <td>Positive</td>\n",
       "      <td>Just realized between the windows partition of...</td>\n",
       "    </tr>\n",
       "    <tr>\n",
       "      <th>74681</th>\n",
       "      <td>9200</td>\n",
       "      <td>Nvidia</td>\n",
       "      <td>Positive</td>\n",
       "      <td>Just like the windows partition of my Mac is l...</td>\n",
       "    </tr>\n",
       "  </tbody>\n",
       "</table>\n",
       "<p>74682 rows × 4 columns</p>\n",
       "</div>"
      ],
      "text/plain": [
       "      tweet_id       entity sentiment  \\\n",
       "0         2401  Borderlands  Positive   \n",
       "1         2401  Borderlands  Positive   \n",
       "2         2401  Borderlands  Positive   \n",
       "3         2401  Borderlands  Positive   \n",
       "4         2401  Borderlands  Positive   \n",
       "...        ...          ...       ...   \n",
       "74677     9200       Nvidia  Positive   \n",
       "74678     9200       Nvidia  Positive   \n",
       "74679     9200       Nvidia  Positive   \n",
       "74680     9200       Nvidia  Positive   \n",
       "74681     9200       Nvidia  Positive   \n",
       "\n",
       "                                                    text  \n",
       "0      im getting on borderlands and i will murder yo...  \n",
       "1      I am coming to the borders and I will kill you...  \n",
       "2      im getting on borderlands and i will kill you ...  \n",
       "3      im coming on borderlands and i will murder you...  \n",
       "4      im getting on borderlands 2 and i will murder ...  \n",
       "...                                                  ...  \n",
       "74677  Just realized that the Windows partition of my...  \n",
       "74678  Just realized that my Mac window partition is ...  \n",
       "74679  Just realized the windows partition of my Mac ...  \n",
       "74680  Just realized between the windows partition of...  \n",
       "74681  Just like the windows partition of my Mac is l...  \n",
       "\n",
       "[74682 rows x 4 columns]"
      ]
     },
     "execution_count": 5,
     "metadata": {},
     "output_type": "execute_result"
    }
   ],
   "source": [
    "df_train"
   ]
  },
  {
   "cell_type": "code",
   "execution_count": 6,
   "id": "5c257819",
   "metadata": {
    "execution": {
     "iopub.execute_input": "2025-04-21T07:02:34.914017Z",
     "iopub.status.busy": "2025-04-21T07:02:34.913451Z",
     "iopub.status.idle": "2025-04-21T07:02:34.936263Z",
     "shell.execute_reply": "2025-04-21T07:02:34.935449Z"
    },
    "papermill": {
     "duration": 0.030561,
     "end_time": "2025-04-21T07:02:34.937791",
     "exception": false,
     "start_time": "2025-04-21T07:02:34.907230",
     "status": "completed"
    },
    "tags": []
   },
   "outputs": [
    {
     "data": {
      "text/html": [
       "<div>\n",
       "<style scoped>\n",
       "    .dataframe tbody tr th:only-of-type {\n",
       "        vertical-align: middle;\n",
       "    }\n",
       "\n",
       "    .dataframe tbody tr th {\n",
       "        vertical-align: top;\n",
       "    }\n",
       "\n",
       "    .dataframe thead th {\n",
       "        text-align: right;\n",
       "    }\n",
       "</style>\n",
       "<table border=\"1\" class=\"dataframe\">\n",
       "  <thead>\n",
       "    <tr style=\"text-align: right;\">\n",
       "      <th></th>\n",
       "      <th>3364</th>\n",
       "      <th>Facebook</th>\n",
       "      <th>Irrelevant</th>\n",
       "      <th>I mentioned on Facebook that I was struggling for motivation to go for a run the other day, which has been translated by Tom’s great auntie as ‘Hayley can’t get out of bed’ and told to his grandma, who now thinks I’m a lazy, terrible person 🤣</th>\n",
       "    </tr>\n",
       "  </thead>\n",
       "  <tbody>\n",
       "    <tr>\n",
       "      <th>0</th>\n",
       "      <td>352</td>\n",
       "      <td>Amazon</td>\n",
       "      <td>Neutral</td>\n",
       "      <td>BBC News - Amazon boss Jeff Bezos rejects clai...</td>\n",
       "    </tr>\n",
       "    <tr>\n",
       "      <th>1</th>\n",
       "      <td>8312</td>\n",
       "      <td>Microsoft</td>\n",
       "      <td>Negative</td>\n",
       "      <td>@Microsoft Why do I pay for WORD when it funct...</td>\n",
       "    </tr>\n",
       "    <tr>\n",
       "      <th>2</th>\n",
       "      <td>4371</td>\n",
       "      <td>CS-GO</td>\n",
       "      <td>Negative</td>\n",
       "      <td>CSGO matchmaking is so full of closet hacking,...</td>\n",
       "    </tr>\n",
       "    <tr>\n",
       "      <th>3</th>\n",
       "      <td>4433</td>\n",
       "      <td>Google</td>\n",
       "      <td>Neutral</td>\n",
       "      <td>Now the President is slapping Americans in the...</td>\n",
       "    </tr>\n",
       "    <tr>\n",
       "      <th>4</th>\n",
       "      <td>6273</td>\n",
       "      <td>FIFA</td>\n",
       "      <td>Negative</td>\n",
       "      <td>Hi @EAHelp I’ve had Madeleine McCann in my cel...</td>\n",
       "    </tr>\n",
       "    <tr>\n",
       "      <th>...</th>\n",
       "      <td>...</td>\n",
       "      <td>...</td>\n",
       "      <td>...</td>\n",
       "      <td>...</td>\n",
       "    </tr>\n",
       "    <tr>\n",
       "      <th>994</th>\n",
       "      <td>4891</td>\n",
       "      <td>GrandTheftAuto(GTA)</td>\n",
       "      <td>Irrelevant</td>\n",
       "      <td>⭐️ Toronto is the arts and culture capital of ...</td>\n",
       "    </tr>\n",
       "    <tr>\n",
       "      <th>995</th>\n",
       "      <td>4359</td>\n",
       "      <td>CS-GO</td>\n",
       "      <td>Irrelevant</td>\n",
       "      <td>tHIS IS ACTUALLY A GOOD MOVE TOT BRING MORE VI...</td>\n",
       "    </tr>\n",
       "    <tr>\n",
       "      <th>996</th>\n",
       "      <td>2652</td>\n",
       "      <td>Borderlands</td>\n",
       "      <td>Positive</td>\n",
       "      <td>Today sucked so it’s time to drink wine n play...</td>\n",
       "    </tr>\n",
       "    <tr>\n",
       "      <th>997</th>\n",
       "      <td>8069</td>\n",
       "      <td>Microsoft</td>\n",
       "      <td>Positive</td>\n",
       "      <td>Bought a fraction of Microsoft today. Small wins.</td>\n",
       "    </tr>\n",
       "    <tr>\n",
       "      <th>998</th>\n",
       "      <td>6960</td>\n",
       "      <td>johnson&amp;johnson</td>\n",
       "      <td>Neutral</td>\n",
       "      <td>Johnson &amp; Johnson to stop selling talc baby po...</td>\n",
       "    </tr>\n",
       "  </tbody>\n",
       "</table>\n",
       "<p>999 rows × 4 columns</p>\n",
       "</div>"
      ],
      "text/plain": [
       "     3364             Facebook  Irrelevant  \\\n",
       "0     352               Amazon     Neutral   \n",
       "1    8312            Microsoft    Negative   \n",
       "2    4371                CS-GO    Negative   \n",
       "3    4433               Google     Neutral   \n",
       "4    6273                 FIFA    Negative   \n",
       "..    ...                  ...         ...   \n",
       "994  4891  GrandTheftAuto(GTA)  Irrelevant   \n",
       "995  4359                CS-GO  Irrelevant   \n",
       "996  2652          Borderlands    Positive   \n",
       "997  8069            Microsoft    Positive   \n",
       "998  6960      johnson&johnson     Neutral   \n",
       "\n",
       "    I mentioned on Facebook that I was struggling for motivation to go for a run the other day, which has been translated by Tom’s great auntie as ‘Hayley can’t get out of bed’ and told to his grandma, who now thinks I’m a lazy, terrible person 🤣  \n",
       "0    BBC News - Amazon boss Jeff Bezos rejects clai...                                                                                                                                                                                                  \n",
       "1    @Microsoft Why do I pay for WORD when it funct...                                                                                                                                                                                                  \n",
       "2    CSGO matchmaking is so full of closet hacking,...                                                                                                                                                                                                  \n",
       "3    Now the President is slapping Americans in the...                                                                                                                                                                                                  \n",
       "4    Hi @EAHelp I’ve had Madeleine McCann in my cel...                                                                                                                                                                                                  \n",
       "..                                                 ...                                                                                                                                                                                                  \n",
       "994  ⭐️ Toronto is the arts and culture capital of ...                                                                                                                                                                                                  \n",
       "995  tHIS IS ACTUALLY A GOOD MOVE TOT BRING MORE VI...                                                                                                                                                                                                  \n",
       "996  Today sucked so it’s time to drink wine n play...                                                                                                                                                                                                  \n",
       "997  Bought a fraction of Microsoft today. Small wins.                                                                                                                                                                                                  \n",
       "998  Johnson & Johnson to stop selling talc baby po...                                                                                                                                                                                                  \n",
       "\n",
       "[999 rows x 4 columns]"
      ]
     },
     "execution_count": 6,
     "metadata": {},
     "output_type": "execute_result"
    }
   ],
   "source": [
    "df_val = pd.read_csv('/kaggle/input/twitter-entity-sentiment-analysis/twitter_validation.csv')\n",
    "df_val"
   ]
  },
  {
   "cell_type": "code",
   "execution_count": 7,
   "id": "1a9c0233",
   "metadata": {
    "execution": {
     "iopub.execute_input": "2025-04-21T07:02:34.950388Z",
     "iopub.status.busy": "2025-04-21T07:02:34.950095Z",
     "iopub.status.idle": "2025-04-21T07:02:34.994150Z",
     "shell.execute_reply": "2025-04-21T07:02:34.992586Z"
    },
    "papermill": {
     "duration": 0.052123,
     "end_time": "2025-04-21T07:02:34.995753",
     "exception": false,
     "start_time": "2025-04-21T07:02:34.943630",
     "status": "completed"
    },
    "tags": []
   },
   "outputs": [
    {
     "name": "stdout",
     "output_type": "stream",
     "text": [
      "<class 'pandas.core.frame.DataFrame'>\n",
      "RangeIndex: 74682 entries, 0 to 74681\n",
      "Data columns (total 4 columns):\n",
      " #   Column     Non-Null Count  Dtype \n",
      "---  ------     --------------  ----- \n",
      " 0   tweet_id   74682 non-null  object\n",
      " 1   entity     74682 non-null  object\n",
      " 2   sentiment  74682 non-null  object\n",
      " 3   text       73996 non-null  object\n",
      "dtypes: object(4)\n",
      "memory usage: 2.3+ MB\n"
     ]
    }
   ],
   "source": [
    "df_train.info()"
   ]
  },
  {
   "cell_type": "code",
   "execution_count": 8,
   "id": "f2b60025",
   "metadata": {
    "execution": {
     "iopub.execute_input": "2025-04-21T07:02:35.008632Z",
     "iopub.status.busy": "2025-04-21T07:02:35.008258Z",
     "iopub.status.idle": "2025-04-21T07:02:35.029424Z",
     "shell.execute_reply": "2025-04-21T07:02:35.028286Z"
    },
    "papermill": {
     "duration": 0.029714,
     "end_time": "2025-04-21T07:02:35.031227",
     "exception": false,
     "start_time": "2025-04-21T07:02:35.001513",
     "status": "completed"
    },
    "tags": []
   },
   "outputs": [],
   "source": [
    "df_train['text'] = df_train['text'].fillna('0')"
   ]
  },
  {
   "cell_type": "code",
   "execution_count": 9,
   "id": "f03fe549",
   "metadata": {
    "execution": {
     "iopub.execute_input": "2025-04-21T07:02:35.044617Z",
     "iopub.status.busy": "2025-04-21T07:02:35.044298Z",
     "iopub.status.idle": "2025-04-21T07:02:35.073582Z",
     "shell.execute_reply": "2025-04-21T07:02:35.072429Z"
    },
    "papermill": {
     "duration": 0.03795,
     "end_time": "2025-04-21T07:02:35.075334",
     "exception": false,
     "start_time": "2025-04-21T07:02:35.037384",
     "status": "completed"
    },
    "tags": []
   },
   "outputs": [
    {
     "data": {
      "text/plain": [
       "tweet_id     0\n",
       "entity       0\n",
       "sentiment    0\n",
       "text         0\n",
       "dtype: int64"
      ]
     },
     "execution_count": 9,
     "metadata": {},
     "output_type": "execute_result"
    }
   ],
   "source": [
    "df_train.isna().sum()"
   ]
  },
  {
   "cell_type": "code",
   "execution_count": 10,
   "id": "8076fd16",
   "metadata": {
    "execution": {
     "iopub.execute_input": "2025-04-21T07:02:35.088603Z",
     "iopub.status.busy": "2025-04-21T07:02:35.088295Z",
     "iopub.status.idle": "2025-04-21T07:02:35.097045Z",
     "shell.execute_reply": "2025-04-21T07:02:35.096100Z"
    },
    "papermill": {
     "duration": 0.017005,
     "end_time": "2025-04-21T07:02:35.098784",
     "exception": false,
     "start_time": "2025-04-21T07:02:35.081779",
     "status": "completed"
    },
    "tags": []
   },
   "outputs": [],
   "source": [
    "current_col = df_val.columns.tolist()\n",
    "\n",
    "df_val.loc[-1] = current_col\n",
    "df_val.index = df_val.index+1\n",
    "df_val = df_val.sort_index()\n",
    "\n",
    "df_val.columns = ['tweet_id','entity','sentiment','text']\n",
    "\n",
    "df_val.reset_index(drop=True,inplace=True)"
   ]
  },
  {
   "cell_type": "code",
   "execution_count": 11,
   "id": "0f156030",
   "metadata": {
    "execution": {
     "iopub.execute_input": "2025-04-21T07:02:35.111945Z",
     "iopub.status.busy": "2025-04-21T07:02:35.111641Z",
     "iopub.status.idle": "2025-04-21T07:02:35.122492Z",
     "shell.execute_reply": "2025-04-21T07:02:35.121709Z"
    },
    "papermill": {
     "duration": 0.019044,
     "end_time": "2025-04-21T07:02:35.123924",
     "exception": false,
     "start_time": "2025-04-21T07:02:35.104880",
     "status": "completed"
    },
    "tags": []
   },
   "outputs": [
    {
     "data": {
      "text/html": [
       "<div>\n",
       "<style scoped>\n",
       "    .dataframe tbody tr th:only-of-type {\n",
       "        vertical-align: middle;\n",
       "    }\n",
       "\n",
       "    .dataframe tbody tr th {\n",
       "        vertical-align: top;\n",
       "    }\n",
       "\n",
       "    .dataframe thead th {\n",
       "        text-align: right;\n",
       "    }\n",
       "</style>\n",
       "<table border=\"1\" class=\"dataframe\">\n",
       "  <thead>\n",
       "    <tr style=\"text-align: right;\">\n",
       "      <th></th>\n",
       "      <th>tweet_id</th>\n",
       "      <th>entity</th>\n",
       "      <th>sentiment</th>\n",
       "      <th>text</th>\n",
       "    </tr>\n",
       "  </thead>\n",
       "  <tbody>\n",
       "    <tr>\n",
       "      <th>0</th>\n",
       "      <td>3364</td>\n",
       "      <td>Facebook</td>\n",
       "      <td>Irrelevant</td>\n",
       "      <td>I mentioned on Facebook that I was struggling ...</td>\n",
       "    </tr>\n",
       "    <tr>\n",
       "      <th>1</th>\n",
       "      <td>352</td>\n",
       "      <td>Amazon</td>\n",
       "      <td>Neutral</td>\n",
       "      <td>BBC News - Amazon boss Jeff Bezos rejects clai...</td>\n",
       "    </tr>\n",
       "    <tr>\n",
       "      <th>2</th>\n",
       "      <td>8312</td>\n",
       "      <td>Microsoft</td>\n",
       "      <td>Negative</td>\n",
       "      <td>@Microsoft Why do I pay for WORD when it funct...</td>\n",
       "    </tr>\n",
       "    <tr>\n",
       "      <th>3</th>\n",
       "      <td>4371</td>\n",
       "      <td>CS-GO</td>\n",
       "      <td>Negative</td>\n",
       "      <td>CSGO matchmaking is so full of closet hacking,...</td>\n",
       "    </tr>\n",
       "    <tr>\n",
       "      <th>4</th>\n",
       "      <td>4433</td>\n",
       "      <td>Google</td>\n",
       "      <td>Neutral</td>\n",
       "      <td>Now the President is slapping Americans in the...</td>\n",
       "    </tr>\n",
       "    <tr>\n",
       "      <th>...</th>\n",
       "      <td>...</td>\n",
       "      <td>...</td>\n",
       "      <td>...</td>\n",
       "      <td>...</td>\n",
       "    </tr>\n",
       "    <tr>\n",
       "      <th>995</th>\n",
       "      <td>4891</td>\n",
       "      <td>GrandTheftAuto(GTA)</td>\n",
       "      <td>Irrelevant</td>\n",
       "      <td>⭐️ Toronto is the arts and culture capital of ...</td>\n",
       "    </tr>\n",
       "    <tr>\n",
       "      <th>996</th>\n",
       "      <td>4359</td>\n",
       "      <td>CS-GO</td>\n",
       "      <td>Irrelevant</td>\n",
       "      <td>tHIS IS ACTUALLY A GOOD MOVE TOT BRING MORE VI...</td>\n",
       "    </tr>\n",
       "    <tr>\n",
       "      <th>997</th>\n",
       "      <td>2652</td>\n",
       "      <td>Borderlands</td>\n",
       "      <td>Positive</td>\n",
       "      <td>Today sucked so it’s time to drink wine n play...</td>\n",
       "    </tr>\n",
       "    <tr>\n",
       "      <th>998</th>\n",
       "      <td>8069</td>\n",
       "      <td>Microsoft</td>\n",
       "      <td>Positive</td>\n",
       "      <td>Bought a fraction of Microsoft today. Small wins.</td>\n",
       "    </tr>\n",
       "    <tr>\n",
       "      <th>999</th>\n",
       "      <td>6960</td>\n",
       "      <td>johnson&amp;johnson</td>\n",
       "      <td>Neutral</td>\n",
       "      <td>Johnson &amp; Johnson to stop selling talc baby po...</td>\n",
       "    </tr>\n",
       "  </tbody>\n",
       "</table>\n",
       "<p>1000 rows × 4 columns</p>\n",
       "</div>"
      ],
      "text/plain": [
       "    tweet_id               entity   sentiment  \\\n",
       "0       3364             Facebook  Irrelevant   \n",
       "1        352               Amazon     Neutral   \n",
       "2       8312            Microsoft    Negative   \n",
       "3       4371                CS-GO    Negative   \n",
       "4       4433               Google     Neutral   \n",
       "..       ...                  ...         ...   \n",
       "995     4891  GrandTheftAuto(GTA)  Irrelevant   \n",
       "996     4359                CS-GO  Irrelevant   \n",
       "997     2652          Borderlands    Positive   \n",
       "998     8069            Microsoft    Positive   \n",
       "999     6960      johnson&johnson     Neutral   \n",
       "\n",
       "                                                  text  \n",
       "0    I mentioned on Facebook that I was struggling ...  \n",
       "1    BBC News - Amazon boss Jeff Bezos rejects clai...  \n",
       "2    @Microsoft Why do I pay for WORD when it funct...  \n",
       "3    CSGO matchmaking is so full of closet hacking,...  \n",
       "4    Now the President is slapping Americans in the...  \n",
       "..                                                 ...  \n",
       "995  ⭐️ Toronto is the arts and culture capital of ...  \n",
       "996  tHIS IS ACTUALLY A GOOD MOVE TOT BRING MORE VI...  \n",
       "997  Today sucked so it’s time to drink wine n play...  \n",
       "998  Bought a fraction of Microsoft today. Small wins.  \n",
       "999  Johnson & Johnson to stop selling talc baby po...  \n",
       "\n",
       "[1000 rows x 4 columns]"
      ]
     },
     "execution_count": 11,
     "metadata": {},
     "output_type": "execute_result"
    }
   ],
   "source": [
    "df_val"
   ]
  },
  {
   "cell_type": "markdown",
   "id": "73dda940",
   "metadata": {
    "papermill": {
     "duration": 0.005691,
     "end_time": "2025-04-21T07:02:35.135875",
     "exception": false,
     "start_time": "2025-04-21T07:02:35.130184",
     "status": "completed"
    },
    "tags": []
   },
   "source": [
    "# Bag of Words\n",
    "> Applying bag of Word on df_train"
   ]
  },
  {
   "cell_type": "code",
   "execution_count": 12,
   "id": "9a1aa130",
   "metadata": {
    "execution": {
     "iopub.execute_input": "2025-04-21T07:02:35.149414Z",
     "iopub.status.busy": "2025-04-21T07:02:35.148527Z",
     "iopub.status.idle": "2025-04-21T07:02:36.754728Z",
     "shell.execute_reply": "2025-04-21T07:02:36.753873Z"
    },
    "papermill": {
     "duration": 1.614804,
     "end_time": "2025-04-21T07:02:36.756492",
     "exception": false,
     "start_time": "2025-04-21T07:02:35.141688",
     "status": "completed"
    },
    "tags": []
   },
   "outputs": [],
   "source": [
    "from sklearn.feature_extraction.text import CountVectorizer"
   ]
  },
  {
   "cell_type": "code",
   "execution_count": 13,
   "id": "e35b5efc",
   "metadata": {
    "execution": {
     "iopub.execute_input": "2025-04-21T07:02:36.770514Z",
     "iopub.status.busy": "2025-04-21T07:02:36.769917Z",
     "iopub.status.idle": "2025-04-21T07:02:36.774914Z",
     "shell.execute_reply": "2025-04-21T07:02:36.773904Z"
    },
    "papermill": {
     "duration": 0.013732,
     "end_time": "2025-04-21T07:02:36.776405",
     "exception": false,
     "start_time": "2025-04-21T07:02:36.762673",
     "status": "completed"
    },
    "tags": []
   },
   "outputs": [],
   "source": [
    "cv = CountVectorizer()"
   ]
  },
  {
   "cell_type": "code",
   "execution_count": 14,
   "id": "29bfae76",
   "metadata": {
    "execution": {
     "iopub.execute_input": "2025-04-21T07:02:36.789988Z",
     "iopub.status.busy": "2025-04-21T07:02:36.789166Z",
     "iopub.status.idle": "2025-04-21T07:02:38.146760Z",
     "shell.execute_reply": "2025-04-21T07:02:38.145896Z"
    },
    "papermill": {
     "duration": 1.365888,
     "end_time": "2025-04-21T07:02:38.148397",
     "exception": false,
     "start_time": "2025-04-21T07:02:36.782509",
     "status": "completed"
    },
    "tags": []
   },
   "outputs": [],
   "source": [
    "bow = cv.fit_transform(df_train['text'])"
   ]
  },
  {
   "cell_type": "markdown",
   "id": "e137421f",
   "metadata": {
    "papermill": {
     "duration": 0.006013,
     "end_time": "2025-04-21T07:02:38.160520",
     "exception": false,
     "start_time": "2025-04-21T07:02:38.154507",
     "status": "completed"
    },
    "tags": []
   },
   "source": [
    "* Conveting into vector."
   ]
  },
  {
   "cell_type": "code",
   "execution_count": 15,
   "id": "dcce5e74",
   "metadata": {
    "execution": {
     "iopub.execute_input": "2025-04-21T07:02:38.174402Z",
     "iopub.status.busy": "2025-04-21T07:02:38.174074Z",
     "iopub.status.idle": "2025-04-21T07:02:38.180827Z",
     "shell.execute_reply": "2025-04-21T07:02:38.179578Z"
    },
    "papermill": {
     "duration": 0.015234,
     "end_time": "2025-04-21T07:02:38.182292",
     "exception": false,
     "start_time": "2025-04-21T07:02:38.167058",
     "status": "completed"
    },
    "tags": []
   },
   "outputs": [
    {
     "name": "stdout",
     "output_type": "stream",
     "text": [
      "[[0 0 0 ... 0 0 0]]\n",
      "[[0 0 0 ... 0 0 0]]\n"
     ]
    }
   ],
   "source": [
    "print(bow[0].toarray())\n",
    "print(bow[1].toarray())"
   ]
  },
  {
   "cell_type": "markdown",
   "id": "f62eab22",
   "metadata": {
    "papermill": {
     "duration": 0.00565,
     "end_time": "2025-04-21T07:02:38.194237",
     "exception": false,
     "start_time": "2025-04-21T07:02:38.188587",
     "status": "completed"
    },
    "tags": []
   },
   "source": [
    "# Ngram\n",
    "\n",
    "* Bi-gram, tri-gram and etc."
   ]
  },
  {
   "cell_type": "code",
   "execution_count": 16,
   "id": "40013de5",
   "metadata": {
    "execution": {
     "iopub.execute_input": "2025-04-21T07:02:38.207398Z",
     "iopub.status.busy": "2025-04-21T07:02:38.207111Z",
     "iopub.status.idle": "2025-04-21T07:02:38.211683Z",
     "shell.execute_reply": "2025-04-21T07:02:38.210723Z"
    },
    "papermill": {
     "duration": 0.013089,
     "end_time": "2025-04-21T07:02:38.213231",
     "exception": false,
     "start_time": "2025-04-21T07:02:38.200142",
     "status": "completed"
    },
    "tags": []
   },
   "outputs": [],
   "source": [
    "ncv = CountVectorizer(ngram_range=(5,5))"
   ]
  },
  {
   "cell_type": "code",
   "execution_count": 17,
   "id": "aecc2d75",
   "metadata": {
    "execution": {
     "iopub.execute_input": "2025-04-21T07:02:38.227134Z",
     "iopub.status.busy": "2025-04-21T07:02:38.226836Z",
     "iopub.status.idle": "2025-04-21T07:02:43.017483Z",
     "shell.execute_reply": "2025-04-21T07:02:43.016519Z"
    },
    "papermill": {
     "duration": 4.799637,
     "end_time": "2025-04-21T07:02:43.019410",
     "exception": false,
     "start_time": "2025-04-21T07:02:38.219773",
     "status": "completed"
    },
    "tags": []
   },
   "outputs": [],
   "source": [
    "bow_ngram = ncv.fit_transform(df_train['text'])"
   ]
  },
  {
   "cell_type": "code",
   "execution_count": 18,
   "id": "4cfde3d4",
   "metadata": {
    "execution": {
     "iopub.execute_input": "2025-04-21T07:02:43.033187Z",
     "iopub.status.busy": "2025-04-21T07:02:43.032854Z",
     "iopub.status.idle": "2025-04-21T07:02:43.038307Z",
     "shell.execute_reply": "2025-04-21T07:02:43.037249Z"
    },
    "papermill": {
     "duration": 0.014398,
     "end_time": "2025-04-21T07:02:43.040163",
     "exception": false,
     "start_time": "2025-04-21T07:02:43.025765",
     "status": "completed"
    },
    "tags": []
   },
   "outputs": [
    {
     "name": "stdout",
     "output_type": "stream",
     "text": [
      "709897\n"
     ]
    }
   ],
   "source": [
    "print(len(ncv.vocabulary_))"
   ]
  },
  {
   "cell_type": "markdown",
   "id": "13278a52",
   "metadata": {
    "papermill": {
     "duration": 0.006645,
     "end_time": "2025-04-21T07:02:43.053513",
     "exception": false,
     "start_time": "2025-04-21T07:02:43.046868",
     "status": "completed"
    },
    "tags": []
   },
   "source": [
    "# TF-IDF"
   ]
  },
  {
   "cell_type": "code",
   "execution_count": 19,
   "id": "c07d012d",
   "metadata": {
    "execution": {
     "iopub.execute_input": "2025-04-21T07:02:43.067321Z",
     "iopub.status.busy": "2025-04-21T07:02:43.066989Z",
     "iopub.status.idle": "2025-04-21T07:02:43.071450Z",
     "shell.execute_reply": "2025-04-21T07:02:43.070618Z"
    },
    "papermill": {
     "duration": 0.013261,
     "end_time": "2025-04-21T07:02:43.073108",
     "exception": false,
     "start_time": "2025-04-21T07:02:43.059847",
     "status": "completed"
    },
    "tags": []
   },
   "outputs": [],
   "source": [
    "from sklearn.feature_extraction.text import TfidfVectorizer"
   ]
  },
  {
   "cell_type": "code",
   "execution_count": 20,
   "id": "03ee774f",
   "metadata": {
    "execution": {
     "iopub.execute_input": "2025-04-21T07:02:43.086669Z",
     "iopub.status.busy": "2025-04-21T07:02:43.085978Z",
     "iopub.status.idle": "2025-04-21T07:02:51.816094Z",
     "shell.execute_reply": "2025-04-21T07:02:51.815238Z"
    },
    "papermill": {
     "duration": 8.738381,
     "end_time": "2025-04-21T07:02:51.817572",
     "exception": false,
     "start_time": "2025-04-21T07:02:43.079191",
     "status": "completed"
    },
    "tags": []
   },
   "outputs": [
    {
     "data": {
      "text/plain": [
       "array([[0., 0., 0., ..., 0., 0., 0.],\n",
       "       [0., 0., 0., ..., 0., 0., 0.],\n",
       "       [0., 0., 0., ..., 0., 0., 0.],\n",
       "       ...,\n",
       "       [0., 0., 0., ..., 0., 0., 0.],\n",
       "       [0., 0., 0., ..., 0., 0., 0.],\n",
       "       [0., 0., 0., ..., 0., 0., 0.]])"
      ]
     },
     "execution_count": 20,
     "metadata": {},
     "output_type": "execute_result"
    }
   ],
   "source": [
    "tfidf = TfidfVectorizer()\n",
    "tfidf.fit_transform(df_train['text']).toarray()"
   ]
  },
  {
   "cell_type": "code",
   "execution_count": 21,
   "id": "6afb2bdf",
   "metadata": {
    "execution": {
     "iopub.execute_input": "2025-04-21T07:02:51.831204Z",
     "iopub.status.busy": "2025-04-21T07:02:51.830859Z",
     "iopub.status.idle": "2025-04-21T07:02:51.868988Z",
     "shell.execute_reply": "2025-04-21T07:02:51.867635Z"
    },
    "papermill": {
     "duration": 0.046912,
     "end_time": "2025-04-21T07:02:51.870616",
     "exception": false,
     "start_time": "2025-04-21T07:02:51.823704",
     "status": "completed"
    },
    "tags": []
   },
   "outputs": [
    {
     "name": "stdout",
     "output_type": "stream",
     "text": [
      "[ 7.42521722  6.95314961 10.27509762 ... 11.12239548 11.12239548\n",
      " 11.12239548]\n",
      "['00' '000' '00011' ... 'การออกอากาศของฉ' 'นจาก' 'ℐℓ٥']\n"
     ]
    }
   ],
   "source": [
    "print(tfidf.idf_)\n",
    "print(tfidf.get_feature_names_out())"
   ]
  },
  {
   "cell_type": "code",
   "execution_count": 22,
   "id": "a67475af",
   "metadata": {
    "execution": {
     "iopub.execute_input": "2025-04-21T07:02:51.885243Z",
     "iopub.status.busy": "2025-04-21T07:02:51.884906Z",
     "iopub.status.idle": "2025-04-21T07:02:51.923115Z",
     "shell.execute_reply": "2025-04-21T07:02:51.922045Z"
    },
    "papermill": {
     "duration": 0.04761,
     "end_time": "2025-04-21T07:02:51.924789",
     "exception": false,
     "start_time": "2025-04-21T07:02:51.877179",
     "status": "completed"
    },
    "tags": []
   },
   "outputs": [
    {
     "data": {
      "text/plain": [
       "array(['00', '000', '00011', ..., 'การออกอากาศของฉ', 'นจาก', 'ℐℓ٥'],\n",
       "      dtype=object)"
      ]
     },
     "execution_count": 22,
     "metadata": {},
     "output_type": "execute_result"
    }
   ],
   "source": [
    "tfidf.get_feature_names_out()"
   ]
  },
  {
   "cell_type": "code",
   "execution_count": null,
   "id": "e798e82f",
   "metadata": {
    "papermill": {
     "duration": 0.006018,
     "end_time": "2025-04-21T07:02:51.937177",
     "exception": false,
     "start_time": "2025-04-21T07:02:51.931159",
     "status": "completed"
    },
    "tags": []
   },
   "outputs": [],
   "source": []
  }
 ],
 "metadata": {
  "kaggle": {
   "accelerator": "none",
   "dataSources": [
    {
     "datasetId": 1520310,
     "sourceId": 2510329,
     "sourceType": "datasetVersion"
    }
   ],
   "dockerImageVersionId": 31012,
   "isGpuEnabled": false,
   "isInternetEnabled": true,
   "language": "python",
   "sourceType": "notebook"
  },
  "kernelspec": {
   "display_name": "Python 3",
   "language": "python",
   "name": "python3"
  },
  "language_info": {
   "codemirror_mode": {
    "name": "ipython",
    "version": 3
   },
   "file_extension": ".py",
   "mimetype": "text/x-python",
   "name": "python",
   "nbconvert_exporter": "python",
   "pygments_lexer": "ipython3",
   "version": "3.11.11"
  },
  "papermill": {
   "default_parameters": {},
   "duration": 26.453064,
   "end_time": "2025-04-21T07:02:53.266805",
   "environment_variables": {},
   "exception": null,
   "input_path": "__notebook__.ipynb",
   "output_path": "__notebook__.ipynb",
   "parameters": {},
   "start_time": "2025-04-21T07:02:26.813741",
   "version": "2.6.0"
  }
 },
 "nbformat": 4,
 "nbformat_minor": 5
}
