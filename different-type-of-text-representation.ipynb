{
 "cells": [
  {
   "cell_type": "code",
   "execution_count": 1,
   "id": "7a7eb29f",
   "metadata": {
    "_cell_guid": "b1076dfc-b9ad-4769-8c92-a6c4dae69d19",
    "_uuid": "8f2839f25d086af736a60e9eeb907d3b93b6e0e5",
    "execution": {
     "iopub.execute_input": "2025-04-21T07:28:02.139286Z",
     "iopub.status.busy": "2025-04-21T07:28:02.138862Z",
     "iopub.status.idle": "2025-04-21T07:28:04.099243Z",
     "shell.execute_reply": "2025-04-21T07:28:04.098327Z"
    },
    "papermill": {
     "duration": 1.969194,
     "end_time": "2025-04-21T07:28:04.101202",
     "exception": false,
     "start_time": "2025-04-21T07:28:02.132008",
     "status": "completed"
    },
    "tags": []
   },
   "outputs": [
    {
     "name": "stdout",
     "output_type": "stream",
     "text": [
      "/kaggle/input/twitter-entity-sentiment-analysis/twitter_validation.csv\n",
      "/kaggle/input/twitter-entity-sentiment-analysis/twitter_training.csv\n"
     ]
    }
   ],
   "source": [
    "# This Python 3 environment comes with many helpful analytics libraries installed\n",
    "# It is defined by the kaggle/python Docker image: https://github.com/kaggle/docker-python\n",
    "# For example, here's several helpful packages to load\n",
    "\n",
    "import numpy as np # linear algebra\n",
    "import pandas as pd # data processing, CSV file I/O (e.g. pd.read_csv)\n",
    "import warnings\n",
    "warnings.filterwarnings('ignore')\n",
    "\n",
    "# Input data files are available in the read-only \"../input/\" directory\n",
    "# For example, running this (by clicking run or pressing Shift+Enter) will list all files under the input directory\n",
    "\n",
    "import os\n",
    "for dirname, _, filenames in os.walk('/kaggle/input'):\n",
    "    for filename in filenames:\n",
    "        print(os.path.join(dirname, filename))\n",
    "\n",
    "# You can write up to 20GB to the current directory (/kaggle/working/) that gets preserved as output when you create a version using \"Save & Run All\" \n",
    "# You can also write temporary files to /kaggle/temp/, but they won't be saved outside of the current session"
   ]
  },
  {
   "cell_type": "markdown",
   "id": "f7b141ed",
   "metadata": {
    "papermill": {
     "duration": 0.008505,
     "end_time": "2025-04-21T07:28:04.118543",
     "exception": false,
     "start_time": "2025-04-21T07:28:04.110038",
     "status": "completed"
    },
    "tags": []
   },
   "source": [
    "# Data loading and preprocessing"
   ]
  },
  {
   "cell_type": "code",
   "execution_count": 2,
   "id": "c0c78a76",
   "metadata": {
    "execution": {
     "iopub.execute_input": "2025-04-21T07:28:04.131669Z",
     "iopub.status.busy": "2025-04-21T07:28:04.131100Z",
     "iopub.status.idle": "2025-04-21T07:28:04.743881Z",
     "shell.execute_reply": "2025-04-21T07:28:04.743018Z"
    },
    "papermill": {
     "duration": 0.620875,
     "end_time": "2025-04-21T07:28:04.745609",
     "exception": false,
     "start_time": "2025-04-21T07:28:04.124734",
     "status": "completed"
    },
    "tags": []
   },
   "outputs": [],
   "source": [
    "df_train= pd.read_csv(\"/kaggle/input/twitter-entity-sentiment-analysis/twitter_training.csv\")"
   ]
  },
  {
   "cell_type": "code",
   "execution_count": 3,
   "id": "f629ae5e",
   "metadata": {
    "execution": {
     "iopub.execute_input": "2025-04-21T07:28:04.756566Z",
     "iopub.status.busy": "2025-04-21T07:28:04.756184Z",
     "iopub.status.idle": "2025-04-21T07:28:04.785732Z",
     "shell.execute_reply": "2025-04-21T07:28:04.784806Z"
    },
    "papermill": {
     "duration": 0.037052,
     "end_time": "2025-04-21T07:28:04.787473",
     "exception": false,
     "start_time": "2025-04-21T07:28:04.750421",
     "status": "completed"
    },
    "tags": []
   },
   "outputs": [
    {
     "data": {
      "text/html": [
       "<div>\n",
       "<style scoped>\n",
       "    .dataframe tbody tr th:only-of-type {\n",
       "        vertical-align: middle;\n",
       "    }\n",
       "\n",
       "    .dataframe tbody tr th {\n",
       "        vertical-align: top;\n",
       "    }\n",
       "\n",
       "    .dataframe thead th {\n",
       "        text-align: right;\n",
       "    }\n",
       "</style>\n",
       "<table border=\"1\" class=\"dataframe\">\n",
       "  <thead>\n",
       "    <tr style=\"text-align: right;\">\n",
       "      <th></th>\n",
       "      <th>2401</th>\n",
       "      <th>Borderlands</th>\n",
       "      <th>Positive</th>\n",
       "      <th>im getting on borderlands and i will murder you all ,</th>\n",
       "    </tr>\n",
       "  </thead>\n",
       "  <tbody>\n",
       "    <tr>\n",
       "      <th>0</th>\n",
       "      <td>2401</td>\n",
       "      <td>Borderlands</td>\n",
       "      <td>Positive</td>\n",
       "      <td>I am coming to the borders and I will kill you...</td>\n",
       "    </tr>\n",
       "    <tr>\n",
       "      <th>1</th>\n",
       "      <td>2401</td>\n",
       "      <td>Borderlands</td>\n",
       "      <td>Positive</td>\n",
       "      <td>im getting on borderlands and i will kill you ...</td>\n",
       "    </tr>\n",
       "    <tr>\n",
       "      <th>2</th>\n",
       "      <td>2401</td>\n",
       "      <td>Borderlands</td>\n",
       "      <td>Positive</td>\n",
       "      <td>im coming on borderlands and i will murder you...</td>\n",
       "    </tr>\n",
       "    <tr>\n",
       "      <th>3</th>\n",
       "      <td>2401</td>\n",
       "      <td>Borderlands</td>\n",
       "      <td>Positive</td>\n",
       "      <td>im getting on borderlands 2 and i will murder ...</td>\n",
       "    </tr>\n",
       "    <tr>\n",
       "      <th>4</th>\n",
       "      <td>2401</td>\n",
       "      <td>Borderlands</td>\n",
       "      <td>Positive</td>\n",
       "      <td>im getting into borderlands and i can murder y...</td>\n",
       "    </tr>\n",
       "    <tr>\n",
       "      <th>...</th>\n",
       "      <td>...</td>\n",
       "      <td>...</td>\n",
       "      <td>...</td>\n",
       "      <td>...</td>\n",
       "    </tr>\n",
       "    <tr>\n",
       "      <th>74676</th>\n",
       "      <td>9200</td>\n",
       "      <td>Nvidia</td>\n",
       "      <td>Positive</td>\n",
       "      <td>Just realized that the Windows partition of my...</td>\n",
       "    </tr>\n",
       "    <tr>\n",
       "      <th>74677</th>\n",
       "      <td>9200</td>\n",
       "      <td>Nvidia</td>\n",
       "      <td>Positive</td>\n",
       "      <td>Just realized that my Mac window partition is ...</td>\n",
       "    </tr>\n",
       "    <tr>\n",
       "      <th>74678</th>\n",
       "      <td>9200</td>\n",
       "      <td>Nvidia</td>\n",
       "      <td>Positive</td>\n",
       "      <td>Just realized the windows partition of my Mac ...</td>\n",
       "    </tr>\n",
       "    <tr>\n",
       "      <th>74679</th>\n",
       "      <td>9200</td>\n",
       "      <td>Nvidia</td>\n",
       "      <td>Positive</td>\n",
       "      <td>Just realized between the windows partition of...</td>\n",
       "    </tr>\n",
       "    <tr>\n",
       "      <th>74680</th>\n",
       "      <td>9200</td>\n",
       "      <td>Nvidia</td>\n",
       "      <td>Positive</td>\n",
       "      <td>Just like the windows partition of my Mac is l...</td>\n",
       "    </tr>\n",
       "  </tbody>\n",
       "</table>\n",
       "<p>74681 rows × 4 columns</p>\n",
       "</div>"
      ],
      "text/plain": [
       "       2401  Borderlands  Positive  \\\n",
       "0      2401  Borderlands  Positive   \n",
       "1      2401  Borderlands  Positive   \n",
       "2      2401  Borderlands  Positive   \n",
       "3      2401  Borderlands  Positive   \n",
       "4      2401  Borderlands  Positive   \n",
       "...     ...          ...       ...   \n",
       "74676  9200       Nvidia  Positive   \n",
       "74677  9200       Nvidia  Positive   \n",
       "74678  9200       Nvidia  Positive   \n",
       "74679  9200       Nvidia  Positive   \n",
       "74680  9200       Nvidia  Positive   \n",
       "\n",
       "      im getting on borderlands and i will murder you all ,  \n",
       "0      I am coming to the borders and I will kill you...     \n",
       "1      im getting on borderlands and i will kill you ...     \n",
       "2      im coming on borderlands and i will murder you...     \n",
       "3      im getting on borderlands 2 and i will murder ...     \n",
       "4      im getting into borderlands and i can murder y...     \n",
       "...                                                  ...     \n",
       "74676  Just realized that the Windows partition of my...     \n",
       "74677  Just realized that my Mac window partition is ...     \n",
       "74678  Just realized the windows partition of my Mac ...     \n",
       "74679  Just realized between the windows partition of...     \n",
       "74680  Just like the windows partition of my Mac is l...     \n",
       "\n",
       "[74681 rows x 4 columns]"
      ]
     },
     "execution_count": 3,
     "metadata": {},
     "output_type": "execute_result"
    }
   ],
   "source": [
    "df_train"
   ]
  },
  {
   "cell_type": "markdown",
   "id": "2bf420d6",
   "metadata": {
    "papermill": {
     "duration": 0.004846,
     "end_time": "2025-04-21T07:28:04.797341",
     "exception": false,
     "start_time": "2025-04-21T07:28:04.792495",
     "status": "completed"
    },
    "tags": []
   },
   "source": [
    "**- Changeing columns name and shifting data in Zeroth row.**"
   ]
  },
  {
   "cell_type": "code",
   "execution_count": 4,
   "id": "f13667e9",
   "metadata": {
    "execution": {
     "iopub.execute_input": "2025-04-21T07:28:04.808888Z",
     "iopub.status.busy": "2025-04-21T07:28:04.808004Z",
     "iopub.status.idle": "2025-04-21T07:28:04.839639Z",
     "shell.execute_reply": "2025-04-21T07:28:04.838510Z"
    },
    "papermill": {
     "duration": 0.039356,
     "end_time": "2025-04-21T07:28:04.841594",
     "exception": false,
     "start_time": "2025-04-21T07:28:04.802238",
     "status": "completed"
    },
    "tags": []
   },
   "outputs": [],
   "source": [
    "current_col = df_train.columns.tolist()\n",
    "\n",
    "df_train.loc[-1] = current_col\n",
    "df_train.index = df_train.index+1\n",
    "df_train = df_train.sort_index()\n",
    "\n",
    "df_train.columns = ['tweet_id','entity','sentiment','text']\n",
    "\n",
    "df_train.reset_index(drop=True,inplace=True)"
   ]
  },
  {
   "cell_type": "code",
   "execution_count": 5,
   "id": "12bbf4e3",
   "metadata": {
    "execution": {
     "iopub.execute_input": "2025-04-21T07:28:04.859055Z",
     "iopub.status.busy": "2025-04-21T07:28:04.858250Z",
     "iopub.status.idle": "2025-04-21T07:28:04.871813Z",
     "shell.execute_reply": "2025-04-21T07:28:04.870870Z"
    },
    "papermill": {
     "duration": 0.02285,
     "end_time": "2025-04-21T07:28:04.873653",
     "exception": false,
     "start_time": "2025-04-21T07:28:04.850803",
     "status": "completed"
    },
    "tags": []
   },
   "outputs": [
    {
     "data": {
      "text/html": [
       "<div>\n",
       "<style scoped>\n",
       "    .dataframe tbody tr th:only-of-type {\n",
       "        vertical-align: middle;\n",
       "    }\n",
       "\n",
       "    .dataframe tbody tr th {\n",
       "        vertical-align: top;\n",
       "    }\n",
       "\n",
       "    .dataframe thead th {\n",
       "        text-align: right;\n",
       "    }\n",
       "</style>\n",
       "<table border=\"1\" class=\"dataframe\">\n",
       "  <thead>\n",
       "    <tr style=\"text-align: right;\">\n",
       "      <th></th>\n",
       "      <th>tweet_id</th>\n",
       "      <th>entity</th>\n",
       "      <th>sentiment</th>\n",
       "      <th>text</th>\n",
       "    </tr>\n",
       "  </thead>\n",
       "  <tbody>\n",
       "    <tr>\n",
       "      <th>0</th>\n",
       "      <td>2401</td>\n",
       "      <td>Borderlands</td>\n",
       "      <td>Positive</td>\n",
       "      <td>im getting on borderlands and i will murder yo...</td>\n",
       "    </tr>\n",
       "    <tr>\n",
       "      <th>1</th>\n",
       "      <td>2401</td>\n",
       "      <td>Borderlands</td>\n",
       "      <td>Positive</td>\n",
       "      <td>I am coming to the borders and I will kill you...</td>\n",
       "    </tr>\n",
       "    <tr>\n",
       "      <th>2</th>\n",
       "      <td>2401</td>\n",
       "      <td>Borderlands</td>\n",
       "      <td>Positive</td>\n",
       "      <td>im getting on borderlands and i will kill you ...</td>\n",
       "    </tr>\n",
       "    <tr>\n",
       "      <th>3</th>\n",
       "      <td>2401</td>\n",
       "      <td>Borderlands</td>\n",
       "      <td>Positive</td>\n",
       "      <td>im coming on borderlands and i will murder you...</td>\n",
       "    </tr>\n",
       "    <tr>\n",
       "      <th>4</th>\n",
       "      <td>2401</td>\n",
       "      <td>Borderlands</td>\n",
       "      <td>Positive</td>\n",
       "      <td>im getting on borderlands 2 and i will murder ...</td>\n",
       "    </tr>\n",
       "    <tr>\n",
       "      <th>...</th>\n",
       "      <td>...</td>\n",
       "      <td>...</td>\n",
       "      <td>...</td>\n",
       "      <td>...</td>\n",
       "    </tr>\n",
       "    <tr>\n",
       "      <th>74677</th>\n",
       "      <td>9200</td>\n",
       "      <td>Nvidia</td>\n",
       "      <td>Positive</td>\n",
       "      <td>Just realized that the Windows partition of my...</td>\n",
       "    </tr>\n",
       "    <tr>\n",
       "      <th>74678</th>\n",
       "      <td>9200</td>\n",
       "      <td>Nvidia</td>\n",
       "      <td>Positive</td>\n",
       "      <td>Just realized that my Mac window partition is ...</td>\n",
       "    </tr>\n",
       "    <tr>\n",
       "      <th>74679</th>\n",
       "      <td>9200</td>\n",
       "      <td>Nvidia</td>\n",
       "      <td>Positive</td>\n",
       "      <td>Just realized the windows partition of my Mac ...</td>\n",
       "    </tr>\n",
       "    <tr>\n",
       "      <th>74680</th>\n",
       "      <td>9200</td>\n",
       "      <td>Nvidia</td>\n",
       "      <td>Positive</td>\n",
       "      <td>Just realized between the windows partition of...</td>\n",
       "    </tr>\n",
       "    <tr>\n",
       "      <th>74681</th>\n",
       "      <td>9200</td>\n",
       "      <td>Nvidia</td>\n",
       "      <td>Positive</td>\n",
       "      <td>Just like the windows partition of my Mac is l...</td>\n",
       "    </tr>\n",
       "  </tbody>\n",
       "</table>\n",
       "<p>74682 rows × 4 columns</p>\n",
       "</div>"
      ],
      "text/plain": [
       "      tweet_id       entity sentiment  \\\n",
       "0         2401  Borderlands  Positive   \n",
       "1         2401  Borderlands  Positive   \n",
       "2         2401  Borderlands  Positive   \n",
       "3         2401  Borderlands  Positive   \n",
       "4         2401  Borderlands  Positive   \n",
       "...        ...          ...       ...   \n",
       "74677     9200       Nvidia  Positive   \n",
       "74678     9200       Nvidia  Positive   \n",
       "74679     9200       Nvidia  Positive   \n",
       "74680     9200       Nvidia  Positive   \n",
       "74681     9200       Nvidia  Positive   \n",
       "\n",
       "                                                    text  \n",
       "0      im getting on borderlands and i will murder yo...  \n",
       "1      I am coming to the borders and I will kill you...  \n",
       "2      im getting on borderlands and i will kill you ...  \n",
       "3      im coming on borderlands and i will murder you...  \n",
       "4      im getting on borderlands 2 and i will murder ...  \n",
       "...                                                  ...  \n",
       "74677  Just realized that the Windows partition of my...  \n",
       "74678  Just realized that my Mac window partition is ...  \n",
       "74679  Just realized the windows partition of my Mac ...  \n",
       "74680  Just realized between the windows partition of...  \n",
       "74681  Just like the windows partition of my Mac is l...  \n",
       "\n",
       "[74682 rows x 4 columns]"
      ]
     },
     "execution_count": 5,
     "metadata": {},
     "output_type": "execute_result"
    }
   ],
   "source": [
    "df_train"
   ]
  },
  {
   "cell_type": "code",
   "execution_count": 6,
   "id": "dba64071",
   "metadata": {
    "execution": {
     "iopub.execute_input": "2025-04-21T07:28:04.886035Z",
     "iopub.status.busy": "2025-04-21T07:28:04.885345Z",
     "iopub.status.idle": "2025-04-21T07:28:04.907941Z",
     "shell.execute_reply": "2025-04-21T07:28:04.907108Z"
    },
    "papermill": {
     "duration": 0.030498,
     "end_time": "2025-04-21T07:28:04.909762",
     "exception": false,
     "start_time": "2025-04-21T07:28:04.879264",
     "status": "completed"
    },
    "tags": []
   },
   "outputs": [
    {
     "data": {
      "text/html": [
       "<div>\n",
       "<style scoped>\n",
       "    .dataframe tbody tr th:only-of-type {\n",
       "        vertical-align: middle;\n",
       "    }\n",
       "\n",
       "    .dataframe tbody tr th {\n",
       "        vertical-align: top;\n",
       "    }\n",
       "\n",
       "    .dataframe thead th {\n",
       "        text-align: right;\n",
       "    }\n",
       "</style>\n",
       "<table border=\"1\" class=\"dataframe\">\n",
       "  <thead>\n",
       "    <tr style=\"text-align: right;\">\n",
       "      <th></th>\n",
       "      <th>3364</th>\n",
       "      <th>Facebook</th>\n",
       "      <th>Irrelevant</th>\n",
       "      <th>I mentioned on Facebook that I was struggling for motivation to go for a run the other day, which has been translated by Tom’s great auntie as ‘Hayley can’t get out of bed’ and told to his grandma, who now thinks I’m a lazy, terrible person 🤣</th>\n",
       "    </tr>\n",
       "  </thead>\n",
       "  <tbody>\n",
       "    <tr>\n",
       "      <th>0</th>\n",
       "      <td>352</td>\n",
       "      <td>Amazon</td>\n",
       "      <td>Neutral</td>\n",
       "      <td>BBC News - Amazon boss Jeff Bezos rejects clai...</td>\n",
       "    </tr>\n",
       "    <tr>\n",
       "      <th>1</th>\n",
       "      <td>8312</td>\n",
       "      <td>Microsoft</td>\n",
       "      <td>Negative</td>\n",
       "      <td>@Microsoft Why do I pay for WORD when it funct...</td>\n",
       "    </tr>\n",
       "    <tr>\n",
       "      <th>2</th>\n",
       "      <td>4371</td>\n",
       "      <td>CS-GO</td>\n",
       "      <td>Negative</td>\n",
       "      <td>CSGO matchmaking is so full of closet hacking,...</td>\n",
       "    </tr>\n",
       "    <tr>\n",
       "      <th>3</th>\n",
       "      <td>4433</td>\n",
       "      <td>Google</td>\n",
       "      <td>Neutral</td>\n",
       "      <td>Now the President is slapping Americans in the...</td>\n",
       "    </tr>\n",
       "    <tr>\n",
       "      <th>4</th>\n",
       "      <td>6273</td>\n",
       "      <td>FIFA</td>\n",
       "      <td>Negative</td>\n",
       "      <td>Hi @EAHelp I’ve had Madeleine McCann in my cel...</td>\n",
       "    </tr>\n",
       "    <tr>\n",
       "      <th>...</th>\n",
       "      <td>...</td>\n",
       "      <td>...</td>\n",
       "      <td>...</td>\n",
       "      <td>...</td>\n",
       "    </tr>\n",
       "    <tr>\n",
       "      <th>994</th>\n",
       "      <td>4891</td>\n",
       "      <td>GrandTheftAuto(GTA)</td>\n",
       "      <td>Irrelevant</td>\n",
       "      <td>⭐️ Toronto is the arts and culture capital of ...</td>\n",
       "    </tr>\n",
       "    <tr>\n",
       "      <th>995</th>\n",
       "      <td>4359</td>\n",
       "      <td>CS-GO</td>\n",
       "      <td>Irrelevant</td>\n",
       "      <td>tHIS IS ACTUALLY A GOOD MOVE TOT BRING MORE VI...</td>\n",
       "    </tr>\n",
       "    <tr>\n",
       "      <th>996</th>\n",
       "      <td>2652</td>\n",
       "      <td>Borderlands</td>\n",
       "      <td>Positive</td>\n",
       "      <td>Today sucked so it’s time to drink wine n play...</td>\n",
       "    </tr>\n",
       "    <tr>\n",
       "      <th>997</th>\n",
       "      <td>8069</td>\n",
       "      <td>Microsoft</td>\n",
       "      <td>Positive</td>\n",
       "      <td>Bought a fraction of Microsoft today. Small wins.</td>\n",
       "    </tr>\n",
       "    <tr>\n",
       "      <th>998</th>\n",
       "      <td>6960</td>\n",
       "      <td>johnson&amp;johnson</td>\n",
       "      <td>Neutral</td>\n",
       "      <td>Johnson &amp; Johnson to stop selling talc baby po...</td>\n",
       "    </tr>\n",
       "  </tbody>\n",
       "</table>\n",
       "<p>999 rows × 4 columns</p>\n",
       "</div>"
      ],
      "text/plain": [
       "     3364             Facebook  Irrelevant  \\\n",
       "0     352               Amazon     Neutral   \n",
       "1    8312            Microsoft    Negative   \n",
       "2    4371                CS-GO    Negative   \n",
       "3    4433               Google     Neutral   \n",
       "4    6273                 FIFA    Negative   \n",
       "..    ...                  ...         ...   \n",
       "994  4891  GrandTheftAuto(GTA)  Irrelevant   \n",
       "995  4359                CS-GO  Irrelevant   \n",
       "996  2652          Borderlands    Positive   \n",
       "997  8069            Microsoft    Positive   \n",
       "998  6960      johnson&johnson     Neutral   \n",
       "\n",
       "    I mentioned on Facebook that I was struggling for motivation to go for a run the other day, which has been translated by Tom’s great auntie as ‘Hayley can’t get out of bed’ and told to his grandma, who now thinks I’m a lazy, terrible person 🤣  \n",
       "0    BBC News - Amazon boss Jeff Bezos rejects clai...                                                                                                                                                                                                  \n",
       "1    @Microsoft Why do I pay for WORD when it funct...                                                                                                                                                                                                  \n",
       "2    CSGO matchmaking is so full of closet hacking,...                                                                                                                                                                                                  \n",
       "3    Now the President is slapping Americans in the...                                                                                                                                                                                                  \n",
       "4    Hi @EAHelp I’ve had Madeleine McCann in my cel...                                                                                                                                                                                                  \n",
       "..                                                 ...                                                                                                                                                                                                  \n",
       "994  ⭐️ Toronto is the arts and culture capital of ...                                                                                                                                                                                                  \n",
       "995  tHIS IS ACTUALLY A GOOD MOVE TOT BRING MORE VI...                                                                                                                                                                                                  \n",
       "996  Today sucked so it’s time to drink wine n play...                                                                                                                                                                                                  \n",
       "997  Bought a fraction of Microsoft today. Small wins.                                                                                                                                                                                                  \n",
       "998  Johnson & Johnson to stop selling talc baby po...                                                                                                                                                                                                  \n",
       "\n",
       "[999 rows x 4 columns]"
      ]
     },
     "execution_count": 6,
     "metadata": {},
     "output_type": "execute_result"
    }
   ],
   "source": [
    "df_val = pd.read_csv('/kaggle/input/twitter-entity-sentiment-analysis/twitter_validation.csv')\n",
    "df_val"
   ]
  },
  {
   "cell_type": "code",
   "execution_count": 7,
   "id": "a0f27e24",
   "metadata": {
    "execution": {
     "iopub.execute_input": "2025-04-21T07:28:04.927565Z",
     "iopub.status.busy": "2025-04-21T07:28:04.927172Z",
     "iopub.status.idle": "2025-04-21T07:28:04.982279Z",
     "shell.execute_reply": "2025-04-21T07:28:04.981329Z"
    },
    "papermill": {
     "duration": 0.064004,
     "end_time": "2025-04-21T07:28:04.983974",
     "exception": false,
     "start_time": "2025-04-21T07:28:04.919970",
     "status": "completed"
    },
    "tags": []
   },
   "outputs": [
    {
     "name": "stdout",
     "output_type": "stream",
     "text": [
      "<class 'pandas.core.frame.DataFrame'>\n",
      "RangeIndex: 74682 entries, 0 to 74681\n",
      "Data columns (total 4 columns):\n",
      " #   Column     Non-Null Count  Dtype \n",
      "---  ------     --------------  ----- \n",
      " 0   tweet_id   74682 non-null  object\n",
      " 1   entity     74682 non-null  object\n",
      " 2   sentiment  74682 non-null  object\n",
      " 3   text       73996 non-null  object\n",
      "dtypes: object(4)\n",
      "memory usage: 2.3+ MB\n"
     ]
    }
   ],
   "source": [
    "df_train.info()"
   ]
  },
  {
   "cell_type": "code",
   "execution_count": 8,
   "id": "0cafaf2f",
   "metadata": {
    "execution": {
     "iopub.execute_input": "2025-04-21T07:28:05.001570Z",
     "iopub.status.busy": "2025-04-21T07:28:05.001172Z",
     "iopub.status.idle": "2025-04-21T07:28:05.036233Z",
     "shell.execute_reply": "2025-04-21T07:28:05.035365Z"
    },
    "papermill": {
     "duration": 0.043761,
     "end_time": "2025-04-21T07:28:05.037919",
     "exception": false,
     "start_time": "2025-04-21T07:28:04.994158",
     "status": "completed"
    },
    "tags": []
   },
   "outputs": [
    {
     "data": {
      "text/plain": [
       "tweet_id       0\n",
       "entity         0\n",
       "sentiment      0\n",
       "text         686\n",
       "dtype: int64"
      ]
     },
     "execution_count": 8,
     "metadata": {},
     "output_type": "execute_result"
    }
   ],
   "source": [
    "df_train.isna().sum()"
   ]
  },
  {
   "cell_type": "code",
   "execution_count": 9,
   "id": "9e34b063",
   "metadata": {
    "execution": {
     "iopub.execute_input": "2025-04-21T07:28:05.055641Z",
     "iopub.status.busy": "2025-04-21T07:28:05.054883Z",
     "iopub.status.idle": "2025-04-21T07:28:05.064443Z",
     "shell.execute_reply": "2025-04-21T07:28:05.063547Z"
    },
    "papermill": {
     "duration": 0.018057,
     "end_time": "2025-04-21T07:28:05.065818",
     "exception": false,
     "start_time": "2025-04-21T07:28:05.047761",
     "status": "completed"
    },
    "tags": []
   },
   "outputs": [],
   "source": [
    "current_col = df_val.columns.tolist()\n",
    "\n",
    "df_val.loc[-1] = current_col\n",
    "df_val.index = df_val.index+1\n",
    "df_val = df_val.sort_index()\n",
    "\n",
    "df_val.columns = ['tweet_id','entity','sentiment','text']\n",
    "\n",
    "df_val.reset_index(drop=True,inplace=True)"
   ]
  },
  {
   "cell_type": "code",
   "execution_count": 10,
   "id": "35209607",
   "metadata": {
    "execution": {
     "iopub.execute_input": "2025-04-21T07:28:05.079170Z",
     "iopub.status.busy": "2025-04-21T07:28:05.078145Z",
     "iopub.status.idle": "2025-04-21T07:28:05.127826Z",
     "shell.execute_reply": "2025-04-21T07:28:05.126389Z"
    },
    "papermill": {
     "duration": 0.058015,
     "end_time": "2025-04-21T07:28:05.129582",
     "exception": false,
     "start_time": "2025-04-21T07:28:05.071567",
     "status": "completed"
    },
    "tags": []
   },
   "outputs": [
    {
     "data": {
      "text/plain": [
       "tweet_id     0\n",
       "entity       0\n",
       "sentiment    0\n",
       "text         0\n",
       "dtype: int64"
      ]
     },
     "execution_count": 10,
     "metadata": {},
     "output_type": "execute_result"
    }
   ],
   "source": [
    "df_train = df_train.dropna(subset=['text'])\n",
    "df_train.isna().sum()"
   ]
  },
  {
   "cell_type": "code",
   "execution_count": 11,
   "id": "1506b8ea",
   "metadata": {
    "execution": {
     "iopub.execute_input": "2025-04-21T07:28:05.142444Z",
     "iopub.status.busy": "2025-04-21T07:28:05.142158Z",
     "iopub.status.idle": "2025-04-21T07:28:05.153079Z",
     "shell.execute_reply": "2025-04-21T07:28:05.152148Z"
    },
    "papermill": {
     "duration": 0.018838,
     "end_time": "2025-04-21T07:28:05.154484",
     "exception": false,
     "start_time": "2025-04-21T07:28:05.135646",
     "status": "completed"
    },
    "tags": []
   },
   "outputs": [
    {
     "data": {
      "text/html": [
       "<div>\n",
       "<style scoped>\n",
       "    .dataframe tbody tr th:only-of-type {\n",
       "        vertical-align: middle;\n",
       "    }\n",
       "\n",
       "    .dataframe tbody tr th {\n",
       "        vertical-align: top;\n",
       "    }\n",
       "\n",
       "    .dataframe thead th {\n",
       "        text-align: right;\n",
       "    }\n",
       "</style>\n",
       "<table border=\"1\" class=\"dataframe\">\n",
       "  <thead>\n",
       "    <tr style=\"text-align: right;\">\n",
       "      <th></th>\n",
       "      <th>tweet_id</th>\n",
       "      <th>entity</th>\n",
       "      <th>sentiment</th>\n",
       "      <th>text</th>\n",
       "    </tr>\n",
       "  </thead>\n",
       "  <tbody>\n",
       "    <tr>\n",
       "      <th>0</th>\n",
       "      <td>3364</td>\n",
       "      <td>Facebook</td>\n",
       "      <td>Irrelevant</td>\n",
       "      <td>I mentioned on Facebook that I was struggling ...</td>\n",
       "    </tr>\n",
       "    <tr>\n",
       "      <th>1</th>\n",
       "      <td>352</td>\n",
       "      <td>Amazon</td>\n",
       "      <td>Neutral</td>\n",
       "      <td>BBC News - Amazon boss Jeff Bezos rejects clai...</td>\n",
       "    </tr>\n",
       "    <tr>\n",
       "      <th>2</th>\n",
       "      <td>8312</td>\n",
       "      <td>Microsoft</td>\n",
       "      <td>Negative</td>\n",
       "      <td>@Microsoft Why do I pay for WORD when it funct...</td>\n",
       "    </tr>\n",
       "    <tr>\n",
       "      <th>3</th>\n",
       "      <td>4371</td>\n",
       "      <td>CS-GO</td>\n",
       "      <td>Negative</td>\n",
       "      <td>CSGO matchmaking is so full of closet hacking,...</td>\n",
       "    </tr>\n",
       "    <tr>\n",
       "      <th>4</th>\n",
       "      <td>4433</td>\n",
       "      <td>Google</td>\n",
       "      <td>Neutral</td>\n",
       "      <td>Now the President is slapping Americans in the...</td>\n",
       "    </tr>\n",
       "    <tr>\n",
       "      <th>...</th>\n",
       "      <td>...</td>\n",
       "      <td>...</td>\n",
       "      <td>...</td>\n",
       "      <td>...</td>\n",
       "    </tr>\n",
       "    <tr>\n",
       "      <th>995</th>\n",
       "      <td>4891</td>\n",
       "      <td>GrandTheftAuto(GTA)</td>\n",
       "      <td>Irrelevant</td>\n",
       "      <td>⭐️ Toronto is the arts and culture capital of ...</td>\n",
       "    </tr>\n",
       "    <tr>\n",
       "      <th>996</th>\n",
       "      <td>4359</td>\n",
       "      <td>CS-GO</td>\n",
       "      <td>Irrelevant</td>\n",
       "      <td>tHIS IS ACTUALLY A GOOD MOVE TOT BRING MORE VI...</td>\n",
       "    </tr>\n",
       "    <tr>\n",
       "      <th>997</th>\n",
       "      <td>2652</td>\n",
       "      <td>Borderlands</td>\n",
       "      <td>Positive</td>\n",
       "      <td>Today sucked so it’s time to drink wine n play...</td>\n",
       "    </tr>\n",
       "    <tr>\n",
       "      <th>998</th>\n",
       "      <td>8069</td>\n",
       "      <td>Microsoft</td>\n",
       "      <td>Positive</td>\n",
       "      <td>Bought a fraction of Microsoft today. Small wins.</td>\n",
       "    </tr>\n",
       "    <tr>\n",
       "      <th>999</th>\n",
       "      <td>6960</td>\n",
       "      <td>johnson&amp;johnson</td>\n",
       "      <td>Neutral</td>\n",
       "      <td>Johnson &amp; Johnson to stop selling talc baby po...</td>\n",
       "    </tr>\n",
       "  </tbody>\n",
       "</table>\n",
       "<p>1000 rows × 4 columns</p>\n",
       "</div>"
      ],
      "text/plain": [
       "    tweet_id               entity   sentiment  \\\n",
       "0       3364             Facebook  Irrelevant   \n",
       "1        352               Amazon     Neutral   \n",
       "2       8312            Microsoft    Negative   \n",
       "3       4371                CS-GO    Negative   \n",
       "4       4433               Google     Neutral   \n",
       "..       ...                  ...         ...   \n",
       "995     4891  GrandTheftAuto(GTA)  Irrelevant   \n",
       "996     4359                CS-GO  Irrelevant   \n",
       "997     2652          Borderlands    Positive   \n",
       "998     8069            Microsoft    Positive   \n",
       "999     6960      johnson&johnson     Neutral   \n",
       "\n",
       "                                                  text  \n",
       "0    I mentioned on Facebook that I was struggling ...  \n",
       "1    BBC News - Amazon boss Jeff Bezos rejects clai...  \n",
       "2    @Microsoft Why do I pay for WORD when it funct...  \n",
       "3    CSGO matchmaking is so full of closet hacking,...  \n",
       "4    Now the President is slapping Americans in the...  \n",
       "..                                                 ...  \n",
       "995  ⭐️ Toronto is the arts and culture capital of ...  \n",
       "996  tHIS IS ACTUALLY A GOOD MOVE TOT BRING MORE VI...  \n",
       "997  Today sucked so it’s time to drink wine n play...  \n",
       "998  Bought a fraction of Microsoft today. Small wins.  \n",
       "999  Johnson & Johnson to stop selling talc baby po...  \n",
       "\n",
       "[1000 rows x 4 columns]"
      ]
     },
     "execution_count": 11,
     "metadata": {},
     "output_type": "execute_result"
    }
   ],
   "source": [
    "df_val"
   ]
  },
  {
   "cell_type": "markdown",
   "id": "3f54ac47",
   "metadata": {
    "papermill": {
     "duration": 0.005758,
     "end_time": "2025-04-21T07:28:05.166355",
     "exception": false,
     "start_time": "2025-04-21T07:28:05.160597",
     "status": "completed"
    },
    "tags": []
   },
   "source": [
    "# Bag of Words\n",
    "> Applying bag of Word on df_train"
   ]
  },
  {
   "cell_type": "code",
   "execution_count": 12,
   "id": "54103f77",
   "metadata": {
    "execution": {
     "iopub.execute_input": "2025-04-21T07:28:05.179288Z",
     "iopub.status.busy": "2025-04-21T07:28:05.178968Z",
     "iopub.status.idle": "2025-04-21T07:28:06.771447Z",
     "shell.execute_reply": "2025-04-21T07:28:06.770595Z"
    },
    "papermill": {
     "duration": 1.600883,
     "end_time": "2025-04-21T07:28:06.773018",
     "exception": false,
     "start_time": "2025-04-21T07:28:05.172135",
     "status": "completed"
    },
    "tags": []
   },
   "outputs": [],
   "source": [
    "from sklearn.feature_extraction.text import CountVectorizer"
   ]
  },
  {
   "cell_type": "code",
   "execution_count": 13,
   "id": "95f128fa",
   "metadata": {
    "execution": {
     "iopub.execute_input": "2025-04-21T07:28:06.786535Z",
     "iopub.status.busy": "2025-04-21T07:28:06.786026Z",
     "iopub.status.idle": "2025-04-21T07:28:06.790299Z",
     "shell.execute_reply": "2025-04-21T07:28:06.789533Z"
    },
    "papermill": {
     "duration": 0.012366,
     "end_time": "2025-04-21T07:28:06.791657",
     "exception": false,
     "start_time": "2025-04-21T07:28:06.779291",
     "status": "completed"
    },
    "tags": []
   },
   "outputs": [],
   "source": [
    "cv = CountVectorizer()"
   ]
  },
  {
   "cell_type": "code",
   "execution_count": 14,
   "id": "c9f32cef",
   "metadata": {
    "execution": {
     "iopub.execute_input": "2025-04-21T07:28:06.804621Z",
     "iopub.status.busy": "2025-04-21T07:28:06.804322Z",
     "iopub.status.idle": "2025-04-21T07:28:08.077520Z",
     "shell.execute_reply": "2025-04-21T07:28:08.076613Z"
    },
    "papermill": {
     "duration": 1.281621,
     "end_time": "2025-04-21T07:28:08.079163",
     "exception": false,
     "start_time": "2025-04-21T07:28:06.797542",
     "status": "completed"
    },
    "tags": []
   },
   "outputs": [],
   "source": [
    "bow = cv.fit_transform(df_train['text'])"
   ]
  },
  {
   "cell_type": "markdown",
   "id": "8c042ead",
   "metadata": {
    "papermill": {
     "duration": 0.005665,
     "end_time": "2025-04-21T07:28:08.090862",
     "exception": false,
     "start_time": "2025-04-21T07:28:08.085197",
     "status": "completed"
    },
    "tags": []
   },
   "source": [
    "* Conveting into vector."
   ]
  },
  {
   "cell_type": "code",
   "execution_count": 15,
   "id": "362a0d90",
   "metadata": {
    "execution": {
     "iopub.execute_input": "2025-04-21T07:28:08.104005Z",
     "iopub.status.busy": "2025-04-21T07:28:08.103654Z",
     "iopub.status.idle": "2025-04-21T07:28:08.109829Z",
     "shell.execute_reply": "2025-04-21T07:28:08.109024Z"
    },
    "papermill": {
     "duration": 0.014451,
     "end_time": "2025-04-21T07:28:08.111256",
     "exception": false,
     "start_time": "2025-04-21T07:28:08.096805",
     "status": "completed"
    },
    "tags": []
   },
   "outputs": [
    {
     "name": "stdout",
     "output_type": "stream",
     "text": [
      "[[0 0 0 ... 0 0 0]]\n",
      "[[0 0 0 ... 0 0 0]]\n"
     ]
    }
   ],
   "source": [
    "print(bow[0].toarray())\n",
    "print(bow[1].toarray())"
   ]
  },
  {
   "cell_type": "markdown",
   "id": "09518d8c",
   "metadata": {
    "papermill": {
     "duration": 0.005671,
     "end_time": "2025-04-21T07:28:08.122972",
     "exception": false,
     "start_time": "2025-04-21T07:28:08.117301",
     "status": "completed"
    },
    "tags": []
   },
   "source": [
    "# Ngram\n",
    "\n",
    "* Bi-gram, tri-gram and etc."
   ]
  },
  {
   "cell_type": "code",
   "execution_count": 16,
   "id": "136b1341",
   "metadata": {
    "execution": {
     "iopub.execute_input": "2025-04-21T07:28:08.135930Z",
     "iopub.status.busy": "2025-04-21T07:28:08.135611Z",
     "iopub.status.idle": "2025-04-21T07:28:08.140194Z",
     "shell.execute_reply": "2025-04-21T07:28:08.139108Z"
    },
    "papermill": {
     "duration": 0.012838,
     "end_time": "2025-04-21T07:28:08.141636",
     "exception": false,
     "start_time": "2025-04-21T07:28:08.128798",
     "status": "completed"
    },
    "tags": []
   },
   "outputs": [],
   "source": [
    "ncv = CountVectorizer(ngram_range=(5,5))"
   ]
  },
  {
   "cell_type": "code",
   "execution_count": 17,
   "id": "ae7befff",
   "metadata": {
    "execution": {
     "iopub.execute_input": "2025-04-21T07:28:08.155738Z",
     "iopub.status.busy": "2025-04-21T07:28:08.155440Z",
     "iopub.status.idle": "2025-04-21T07:28:12.679760Z",
     "shell.execute_reply": "2025-04-21T07:28:12.678896Z"
    },
    "papermill": {
     "duration": 4.533728,
     "end_time": "2025-04-21T07:28:12.681514",
     "exception": false,
     "start_time": "2025-04-21T07:28:08.147786",
     "status": "completed"
    },
    "tags": []
   },
   "outputs": [],
   "source": [
    "bow_ngram = ncv.fit_transform(df_train['text'])"
   ]
  },
  {
   "cell_type": "code",
   "execution_count": 18,
   "id": "0b03570d",
   "metadata": {
    "execution": {
     "iopub.execute_input": "2025-04-21T07:28:12.694942Z",
     "iopub.status.busy": "2025-04-21T07:28:12.694655Z",
     "iopub.status.idle": "2025-04-21T07:28:12.699448Z",
     "shell.execute_reply": "2025-04-21T07:28:12.698527Z"
    },
    "papermill": {
     "duration": 0.013046,
     "end_time": "2025-04-21T07:28:12.700694",
     "exception": false,
     "start_time": "2025-04-21T07:28:12.687648",
     "status": "completed"
    },
    "tags": []
   },
   "outputs": [
    {
     "name": "stdout",
     "output_type": "stream",
     "text": [
      "709897\n"
     ]
    }
   ],
   "source": [
    "print(len(ncv.vocabulary_))"
   ]
  },
  {
   "cell_type": "markdown",
   "id": "d357de53",
   "metadata": {
    "papermill": {
     "duration": 0.00574,
     "end_time": "2025-04-21T07:28:12.712580",
     "exception": false,
     "start_time": "2025-04-21T07:28:12.706840",
     "status": "completed"
    },
    "tags": []
   },
   "source": [
    "# TF-IDF"
   ]
  },
  {
   "cell_type": "code",
   "execution_count": 19,
   "id": "edbf4b06",
   "metadata": {
    "execution": {
     "iopub.execute_input": "2025-04-21T07:28:12.726466Z",
     "iopub.status.busy": "2025-04-21T07:28:12.726174Z",
     "iopub.status.idle": "2025-04-21T07:28:12.731052Z",
     "shell.execute_reply": "2025-04-21T07:28:12.729847Z"
    },
    "papermill": {
     "duration": 0.013296,
     "end_time": "2025-04-21T07:28:12.732487",
     "exception": false,
     "start_time": "2025-04-21T07:28:12.719191",
     "status": "completed"
    },
    "tags": []
   },
   "outputs": [],
   "source": [
    "from sklearn.feature_extraction.text import TfidfVectorizer"
   ]
  },
  {
   "cell_type": "code",
   "execution_count": 20,
   "id": "f82eb20a",
   "metadata": {
    "execution": {
     "iopub.execute_input": "2025-04-21T07:28:12.745846Z",
     "iopub.status.busy": "2025-04-21T07:28:12.745552Z",
     "iopub.status.idle": "2025-04-21T07:28:20.576563Z",
     "shell.execute_reply": "2025-04-21T07:28:20.575712Z"
    },
    "papermill": {
     "duration": 7.839735,
     "end_time": "2025-04-21T07:28:20.578325",
     "exception": false,
     "start_time": "2025-04-21T07:28:12.738590",
     "status": "completed"
    },
    "tags": []
   },
   "outputs": [
    {
     "data": {
      "text/plain": [
       "array([[0., 0., 0., ..., 0., 0., 0.],\n",
       "       [0., 0., 0., ..., 0., 0., 0.],\n",
       "       [0., 0., 0., ..., 0., 0., 0.],\n",
       "       ...,\n",
       "       [0., 0., 0., ..., 0., 0., 0.],\n",
       "       [0., 0., 0., ..., 0., 0., 0.],\n",
       "       [0., 0., 0., ..., 0., 0., 0.]])"
      ]
     },
     "execution_count": 20,
     "metadata": {},
     "output_type": "execute_result"
    }
   ],
   "source": [
    "tfidf = TfidfVectorizer()\n",
    "tfidf.fit_transform(df_train['text']).toarray()"
   ]
  },
  {
   "cell_type": "code",
   "execution_count": 21,
   "id": "05b9487f",
   "metadata": {
    "execution": {
     "iopub.execute_input": "2025-04-21T07:28:20.592994Z",
     "iopub.status.busy": "2025-04-21T07:28:20.592655Z",
     "iopub.status.idle": "2025-04-21T07:28:20.631932Z",
     "shell.execute_reply": "2025-04-21T07:28:20.630740Z"
    },
    "papermill": {
     "duration": 0.048299,
     "end_time": "2025-04-21T07:28:20.633491",
     "exception": false,
     "start_time": "2025-04-21T07:28:20.585192",
     "status": "completed"
    },
    "tags": []
   },
   "outputs": [
    {
     "name": "stdout",
     "output_type": "stream",
     "text": [
      "[ 7.41598929  6.94392167 10.26586968 ... 11.11316754 11.11316754\n",
      " 11.11316754]\n",
      "['00' '000' '00011' ... 'การออกอากาศของฉ' 'นจาก' 'ℐℓ٥']\n"
     ]
    }
   ],
   "source": [
    "print(tfidf.idf_)\n",
    "print(tfidf.get_feature_names_out())"
   ]
  },
  {
   "cell_type": "code",
   "execution_count": 22,
   "id": "1c02e593",
   "metadata": {
    "execution": {
     "iopub.execute_input": "2025-04-21T07:28:20.648014Z",
     "iopub.status.busy": "2025-04-21T07:28:20.647273Z",
     "iopub.status.idle": "2025-04-21T07:28:20.685288Z",
     "shell.execute_reply": "2025-04-21T07:28:20.684234Z"
    },
    "papermill": {
     "duration": 0.046656,
     "end_time": "2025-04-21T07:28:20.686741",
     "exception": false,
     "start_time": "2025-04-21T07:28:20.640085",
     "status": "completed"
    },
    "tags": []
   },
   "outputs": [
    {
     "data": {
      "text/plain": [
       "array(['00', '000', '00011', ..., 'การออกอากาศของฉ', 'นจาก', 'ℐℓ٥'],\n",
       "      dtype=object)"
      ]
     },
     "execution_count": 22,
     "metadata": {},
     "output_type": "execute_result"
    }
   ],
   "source": [
    "tfidf.get_feature_names_out()"
   ]
  },
  {
   "cell_type": "code",
   "execution_count": null,
   "id": "6d1efa7a",
   "metadata": {
    "papermill": {
     "duration": 0.006132,
     "end_time": "2025-04-21T07:28:20.699539",
     "exception": false,
     "start_time": "2025-04-21T07:28:20.693407",
     "status": "completed"
    },
    "tags": []
   },
   "outputs": [],
   "source": []
  },
  {
   "cell_type": "code",
   "execution_count": null,
   "id": "200ef451",
   "metadata": {
    "papermill": {
     "duration": 0.006062,
     "end_time": "2025-04-21T07:28:20.711846",
     "exception": false,
     "start_time": "2025-04-21T07:28:20.705784",
     "status": "completed"
    },
    "tags": []
   },
   "outputs": [],
   "source": []
  }
 ],
 "metadata": {
  "kaggle": {
   "accelerator": "none",
   "dataSources": [
    {
     "datasetId": 1520310,
     "sourceId": 2510329,
     "sourceType": "datasetVersion"
    }
   ],
   "dockerImageVersionId": 31012,
   "isGpuEnabled": false,
   "isInternetEnabled": true,
   "language": "python",
   "sourceType": "notebook"
  },
  "kernelspec": {
   "display_name": "Python 3",
   "language": "python",
   "name": "python3"
  },
  "language_info": {
   "codemirror_mode": {
    "name": "ipython",
    "version": 3
   },
   "file_extension": ".py",
   "mimetype": "text/x-python",
   "name": "python",
   "nbconvert_exporter": "python",
   "pygments_lexer": "ipython3",
   "version": "3.11.11"
  },
  "papermill": {
   "default_parameters": {},
   "duration": 24.486395,
   "end_time": "2025-04-21T07:28:21.739699",
   "environment_variables": {},
   "exception": null,
   "input_path": "__notebook__.ipynb",
   "output_path": "__notebook__.ipynb",
   "parameters": {},
   "start_time": "2025-04-21T07:27:57.253304",
   "version": "2.6.0"
  }
 },
 "nbformat": 4,
 "nbformat_minor": 5
}
