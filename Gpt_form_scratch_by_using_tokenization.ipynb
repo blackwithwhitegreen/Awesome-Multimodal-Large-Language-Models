{
  "nbformat": 4,
  "nbformat_minor": 0,
  "metadata": {
    "colab": {
      "provenance": [],
      "mount_file_id": "1-8TZlssn_kjVdHaniqO_93CkH7i4lfmm",
      "authorship_tag": "ABX9TyOnrJi7lr7ggf3WgNu64p9A",
      "include_colab_link": true
    },
    "kernelspec": {
      "name": "python3",
      "display_name": "Python 3"
    },
    "language_info": {
      "name": "python"
    }
  },
  "cells": [
    {
      "cell_type": "markdown",
      "metadata": {
        "id": "view-in-github",
        "colab_type": "text"
      },
      "source": [
        "<a href=\"https://colab.research.google.com/github/blackwithwhitegreen/Awesome-Multimodal-Large-Language-Models/blob/main/Gpt_form_scratch_by_using_tokenization.ipynb\" target=\"_parent\"><img src=\"https://colab.research.google.com/assets/colab-badge.svg\" alt=\"Open In Colab\"/></a>"
      ]
    },
    {
      "cell_type": "markdown",
      "source": [
        "#Building a GPT"
      ],
      "metadata": {
        "id": "sZtaHx8_HAzG"
      }
    },
    {
      "cell_type": "code",
      "execution_count": 1,
      "metadata": {
        "colab": {
          "base_uri": "https://localhost:8080/"
        },
        "id": "7tScO3IcG36C",
        "outputId": "cbe6b840-2737-46bf-990d-8881b46931b2"
      },
      "outputs": [
        {
          "output_type": "stream",
          "name": "stdout",
          "text": [
            "--2025-04-22 06:07:30--  https://raw.githubusercontent.com/karpathy/char-rnn/master/data/tinyshakespeare/input.txt\n",
            "Resolving raw.githubusercontent.com (raw.githubusercontent.com)... 185.199.108.133, 185.199.109.133, 185.199.110.133, ...\n",
            "Connecting to raw.githubusercontent.com (raw.githubusercontent.com)|185.199.108.133|:443... connected.\n",
            "HTTP request sent, awaiting response... 200 OK\n",
            "Length: 1115394 (1.1M) [text/plain]\n",
            "Saving to: ‘input.txt’\n",
            "\n",
            "\rinput.txt             0%[                    ]       0  --.-KB/s               \rinput.txt           100%[===================>]   1.06M  --.-KB/s    in 0.04s   \n",
            "\n",
            "2025-04-22 06:07:31 (25.4 MB/s) - ‘input.txt’ saved [1115394/1115394]\n",
            "\n"
          ]
        }
      ],
      "source": [
        "# We always start with a dataset to train on. Let's download the tiny shakespeare dataset\n",
        "!wget https://raw.githubusercontent.com/karpathy/char-rnn/master/data/tinyshakespeare/input.txt"
      ]
    },
    {
      "cell_type": "code",
      "source": [
        "# read it in to inspect it\n",
        "with open('/content/colab.txt', 'r', encoding='utf-8') as f:\n",
        "    text = f.read()"
      ],
      "metadata": {
        "id": "mDIezFsQG9Q1"
      },
      "execution_count": 33,
      "outputs": []
    },
    {
      "cell_type": "code",
      "source": [
        "print(\"length of dataset in characters: \", len(text))"
      ],
      "metadata": {
        "colab": {
          "base_uri": "https://localhost:8080/"
        },
        "id": "pE-HyZwUHEeC",
        "outputId": "5c56b39e-00cc-44ce-ca9f-fa764d690ee9"
      },
      "execution_count": 34,
      "outputs": [
        {
          "output_type": "stream",
          "name": "stdout",
          "text": [
            "length of dataset in characters:  2257\n"
          ]
        }
      ]
    },
    {
      "cell_type": "code",
      "source": [
        "# let's look at the first 1000 characters\n",
        "print(text[:1000])"
      ],
      "metadata": {
        "colab": {
          "base_uri": "https://localhost:8080/"
        },
        "id": "VppwktzAHGNP",
        "outputId": "03be7770-690f-4f37-fb6c-8918f5392d0b"
      },
      "execution_count": 35,
      "outputs": [
        {
          "output_type": "stream",
          "name": "stdout",
          "text": [
            "Forgetting and drifting are the two most critical problems in next-frame (or next-frame-section)\n",
            "prediction models for video generation. Herein, \"forgetting\" refers to the fading of memory as the\n",
            "model struggles to remember earlier content and maintain consistent temporal dependencies, whereas\n",
            "\"drifting\" refers to the iterative degradation of visual quality due to error accumulation over time\n",
            "(also called exposure bias).\n",
            "A fundamental dilemma emerges when attempting to simultaneously address both forgetting and\n",
            "drifting: any method that mitigates forgetting by enhancing memory may also make error accumula-\n",
            "tion/propagation faster, thereby exacerbating drifting; any method that reduces drifting by interrupting\n",
            "error propagation and weakening the temporal dependencies (e.g., masking or re-noising the his-\n",
            "tory) may also worsen the forgetting. This essential trade-off hinders the scalability of next-frame\n",
            "prediction models.\n",
            "The forgetting problem leads to a naive solution to encode more f\n"
          ]
        }
      ]
    },
    {
      "cell_type": "code",
      "source": [
        "# here are all the unique characters that occur in this text\n",
        "chars = sorted(list(set(text)))\n",
        "vocab_size = len(chars)\n",
        "print(''.join(chars))\n",
        "print(vocab_size)"
      ],
      "metadata": {
        "colab": {
          "base_uri": "https://localhost:8080/"
        },
        "id": "L1IjigrqHH3I",
        "outputId": "f13e8e52-a75c-4487-8c4d-225c63b383ba"
      },
      "execution_count": 36,
      "outputs": [
        {
          "output_type": "stream",
          "name": "stdout",
          "text": [
            "\n",
            " \"(),-./:;AFHMOTabcdefghiklmnopqrstuvwxyz\n",
            "42\n"
          ]
        }
      ]
    },
    {
      "cell_type": "code",
      "source": [
        "# create a mapping from characters to integers\n",
        "stoi = { ch:i for i,ch in enumerate(chars) }\n",
        "itos = { i:ch for i,ch in enumerate(chars) }\n",
        "encode = lambda s: [stoi[c] for c in s] # encoder: take a string, output a list of integers\n",
        "decode = lambda l: ''.join([itos[i] for i in l]) # decoder: take a list of integers, output a string\n",
        "\n",
        "print(encode(\"hii there\"))\n",
        "print(decode(encode(\"hii there\")))"
      ],
      "metadata": {
        "colab": {
          "base_uri": "https://localhost:8080/"
        },
        "id": "3HtYhF4CHKOa",
        "outputId": "2a92a8f4-c5e7-4b44-bb5c-a91042355e0f"
      },
      "execution_count": 37,
      "outputs": [
        {
          "output_type": "stream",
          "name": "stdout",
          "text": [
            "[24, 25, 25, 1, 35, 24, 21, 33, 21]\n",
            "hii there\n"
          ]
        }
      ]
    },
    {
      "cell_type": "code",
      "source": [
        "# let's now encode the entire text dataset and store it into a torch.Tensor\n",
        "import torch # we use PyTorch: https://pytorch.org\n",
        "data = torch.tensor(encode(text), dtype=torch.long)\n",
        "print(data.shape, data.dtype)\n",
        "print(data[:1000]) # the 1000 characters we looked at earier will to the GPT look like this"
      ],
      "metadata": {
        "colab": {
          "base_uri": "https://localhost:8080/"
        },
        "id": "itZa074xHMBC",
        "outputId": "5ee49136-c371-461a-a163-b2202a2a90d9"
      },
      "execution_count": 38,
      "outputs": [
        {
          "output_type": "stream",
          "name": "stdout",
          "text": [
            "torch.Size([2257]) torch.int64\n",
            "tensor([12, 30, 33, 23, 21, 35, 35, 25, 29, 23,  1, 17, 29, 20,  1, 20, 33, 25,\n",
            "        22, 35, 25, 29, 23,  1, 17, 33, 21,  1, 35, 24, 21,  1, 35, 38, 30,  1,\n",
            "        28, 30, 34, 35,  1, 19, 33, 25, 35, 25, 19, 17, 27,  1, 31, 33, 30, 18,\n",
            "        27, 21, 28, 34,  1, 25, 29,  1, 29, 21, 39, 35,  6, 22, 33, 17, 28, 21,\n",
            "         1,  3, 30, 33,  1, 29, 21, 39, 35,  6, 22, 33, 17, 28, 21,  6, 34, 21,\n",
            "        19, 35, 25, 30, 29,  4,  0, 31, 33, 21, 20, 25, 19, 35, 25, 30, 29,  1,\n",
            "        28, 30, 20, 21, 27, 34,  1, 22, 30, 33,  1, 37, 25, 20, 21, 30,  1, 23,\n",
            "        21, 29, 21, 33, 17, 35, 25, 30, 29,  7,  1, 13, 21, 33, 21, 25, 29,  5,\n",
            "         1,  2, 22, 30, 33, 23, 21, 35, 35, 25, 29, 23,  2,  1, 33, 21, 22, 21,\n",
            "        33, 34,  1, 35, 30,  1, 35, 24, 21,  1, 22, 17, 20, 25, 29, 23,  1, 30,\n",
            "        22,  1, 28, 21, 28, 30, 33, 40,  1, 17, 34,  1, 35, 24, 21,  0, 28, 30,\n",
            "        20, 21, 27,  1, 34, 35, 33, 36, 23, 23, 27, 21, 34,  1, 35, 30,  1, 33,\n",
            "        21, 28, 21, 28, 18, 21, 33,  1, 21, 17, 33, 27, 25, 21, 33,  1, 19, 30,\n",
            "        29, 35, 21, 29, 35,  1, 17, 29, 20,  1, 28, 17, 25, 29, 35, 17, 25, 29,\n",
            "         1, 19, 30, 29, 34, 25, 34, 35, 21, 29, 35,  1, 35, 21, 28, 31, 30, 33,\n",
            "        17, 27,  1, 20, 21, 31, 21, 29, 20, 21, 29, 19, 25, 21, 34,  5,  1, 38,\n",
            "        24, 21, 33, 21, 17, 34,  0,  2, 20, 33, 25, 22, 35, 25, 29, 23,  2,  1,\n",
            "        33, 21, 22, 21, 33, 34,  1, 35, 30,  1, 35, 24, 21,  1, 25, 35, 21, 33,\n",
            "        17, 35, 25, 37, 21,  1, 20, 21, 23, 33, 17, 20, 17, 35, 25, 30, 29,  1,\n",
            "        30, 22,  1, 37, 25, 34, 36, 17, 27,  1, 32, 36, 17, 27, 25, 35, 40,  1,\n",
            "        20, 36, 21,  1, 35, 30,  1, 21, 33, 33, 30, 33,  1, 17, 19, 19, 36, 28,\n",
            "        36, 27, 17, 35, 25, 30, 29,  1, 30, 37, 21, 33,  1, 35, 25, 28, 21,  0,\n",
            "         3, 17, 27, 34, 30,  1, 19, 17, 27, 27, 21, 20,  1, 21, 39, 31, 30, 34,\n",
            "        36, 33, 21,  1, 18, 25, 17, 34,  4,  7,  0, 11,  1, 22, 36, 29, 20, 17,\n",
            "        28, 21, 29, 35, 17, 27,  1, 20, 25, 27, 21, 28, 28, 17,  1, 21, 28, 21,\n",
            "        33, 23, 21, 34,  1, 38, 24, 21, 29,  1, 17, 35, 35, 21, 28, 31, 35, 25,\n",
            "        29, 23,  1, 35, 30,  1, 34, 25, 28, 36, 27, 35, 17, 29, 21, 30, 36, 34,\n",
            "        27, 40,  1, 17, 20, 20, 33, 21, 34, 34,  1, 18, 30, 35, 24,  1, 22, 30,\n",
            "        33, 23, 21, 35, 35, 25, 29, 23,  1, 17, 29, 20,  0, 20, 33, 25, 22, 35,\n",
            "        25, 29, 23,  9,  1, 17, 29, 40,  1, 28, 21, 35, 24, 30, 20,  1, 35, 24,\n",
            "        17, 35,  1, 28, 25, 35, 25, 23, 17, 35, 21, 34,  1, 22, 30, 33, 23, 21,\n",
            "        35, 35, 25, 29, 23,  1, 18, 40,  1, 21, 29, 24, 17, 29, 19, 25, 29, 23,\n",
            "         1, 28, 21, 28, 30, 33, 40,  1, 28, 17, 40,  1, 17, 27, 34, 30,  1, 28,\n",
            "        17, 26, 21,  1, 21, 33, 33, 30, 33,  1, 17, 19, 19, 36, 28, 36, 27, 17,\n",
            "         6,  0, 35, 25, 30, 29,  8, 31, 33, 30, 31, 17, 23, 17, 35, 25, 30, 29,\n",
            "         1, 22, 17, 34, 35, 21, 33,  5,  1, 35, 24, 21, 33, 21, 18, 40,  1, 21,\n",
            "        39, 17, 19, 21, 33, 18, 17, 35, 25, 29, 23,  1, 20, 33, 25, 22, 35, 25,\n",
            "        29, 23, 10,  1, 17, 29, 40,  1, 28, 21, 35, 24, 30, 20,  1, 35, 24, 17,\n",
            "        35,  1, 33, 21, 20, 36, 19, 21, 34,  1, 20, 33, 25, 22, 35, 25, 29, 23,\n",
            "         1, 18, 40,  1, 25, 29, 35, 21, 33, 33, 36, 31, 35, 25, 29, 23,  0, 21,\n",
            "        33, 33, 30, 33,  1, 31, 33, 30, 31, 17, 23, 17, 35, 25, 30, 29,  1, 17,\n",
            "        29, 20,  1, 38, 21, 17, 26, 21, 29, 25, 29, 23,  1, 35, 24, 21,  1, 35,\n",
            "        21, 28, 31, 30, 33, 17, 27,  1, 20, 21, 31, 21, 29, 20, 21, 29, 19, 25,\n",
            "        21, 34,  1,  3, 21,  7, 23,  7,  5,  1, 28, 17, 34, 26, 25, 29, 23,  1,\n",
            "        30, 33,  1, 33, 21,  6, 29, 30, 25, 34, 25, 29, 23,  1, 35, 24, 21,  1,\n",
            "        24, 25, 34,  6,  0, 35, 30, 33, 40,  4,  1, 28, 17, 40,  1, 17, 27, 34,\n",
            "        30,  1, 38, 30, 33, 34, 21, 29,  1, 35, 24, 21,  1, 22, 30, 33, 23, 21,\n",
            "        35, 35, 25, 29, 23,  7,  1, 16, 24, 25, 34,  1, 21, 34, 34, 21, 29, 35,\n",
            "        25, 17, 27,  1, 35, 33, 17, 20, 21,  6, 30, 22, 22,  1, 24, 25, 29, 20,\n",
            "        21, 33, 34,  1, 35, 24, 21,  1, 34, 19, 17, 27, 17, 18, 25, 27, 25, 35,\n",
            "        40,  1, 30, 22,  1, 29, 21, 39, 35,  6, 22, 33, 17, 28, 21,  0, 31, 33,\n",
            "        21, 20, 25, 19, 35, 25, 30, 29,  1, 28, 30, 20, 21, 27, 34,  7,  0, 16,\n",
            "        24, 21,  1, 22, 30, 33, 23, 21, 35, 35, 25, 29, 23,  1, 31, 33, 30, 18,\n",
            "        27, 21, 28,  1, 27, 21, 17, 20, 34,  1, 35, 30,  1, 17,  1, 29, 17, 25,\n",
            "        37, 21,  1, 34, 30, 27, 36, 35, 25, 30, 29,  1, 35, 30,  1, 21, 29, 19,\n",
            "        30, 20, 21,  1, 28, 30, 33, 21,  1, 22])\n"
          ]
        }
      ]
    },
    {
      "cell_type": "code",
      "source": [
        "# Let's now split up the data into train and validation sets\n",
        "n = int(0.9*len(data)) # first 90% will be train, rest val\n",
        "train_data = data[:n]\n",
        "val_data = data[n:]"
      ],
      "metadata": {
        "id": "XGpObw5FHOCh"
      },
      "execution_count": 39,
      "outputs": []
    },
    {
      "cell_type": "code",
      "source": [
        "block_size = 8\n",
        "train_data[:block_size+1]"
      ],
      "metadata": {
        "colab": {
          "base_uri": "https://localhost:8080/"
        },
        "id": "3dOwn-xVHRli",
        "outputId": "cd3ebeb0-9ffc-412b-abb9-23ad43e04a79"
      },
      "execution_count": 40,
      "outputs": [
        {
          "output_type": "execute_result",
          "data": {
            "text/plain": [
              "tensor([12, 30, 33, 23, 21, 35, 35, 25, 29])"
            ]
          },
          "metadata": {},
          "execution_count": 40
        }
      ]
    },
    {
      "cell_type": "code",
      "source": [
        "x = train_data[:block_size]\n",
        "y = train_data[1:block_size+1]\n",
        "for t in range(block_size):\n",
        "    context = x[:t+1]\n",
        "    target = y[t]\n",
        "    print(f\"when input is {context} the target: {target}\")"
      ],
      "metadata": {
        "colab": {
          "base_uri": "https://localhost:8080/"
        },
        "id": "Di8ff1AOHS9V",
        "outputId": "dcb91862-ed63-450c-ae07-d31bf24a7d11"
      },
      "execution_count": 41,
      "outputs": [
        {
          "output_type": "stream",
          "name": "stdout",
          "text": [
            "when input is tensor([12]) the target: 30\n",
            "when input is tensor([12, 30]) the target: 33\n",
            "when input is tensor([12, 30, 33]) the target: 23\n",
            "when input is tensor([12, 30, 33, 23]) the target: 21\n",
            "when input is tensor([12, 30, 33, 23, 21]) the target: 35\n",
            "when input is tensor([12, 30, 33, 23, 21, 35]) the target: 35\n",
            "when input is tensor([12, 30, 33, 23, 21, 35, 35]) the target: 25\n",
            "when input is tensor([12, 30, 33, 23, 21, 35, 35, 25]) the target: 29\n"
          ]
        }
      ]
    },
    {
      "cell_type": "code",
      "source": [
        "torch.manual_seed(1337)\n",
        "batch_size = 4 # how many independent sequences will we process in parallel?\n",
        "block_size = 8 # what is the maximum context length for predictions?\n",
        "\n",
        "def get_batch(split):\n",
        "    # generate a small batch of data of inputs x and targets y\n",
        "    data = train_data if split == 'train' else val_data\n",
        "    ix = torch.randint(len(data) - block_size, (batch_size,))\n",
        "    x = torch.stack([data[i:i+block_size] for i in ix])\n",
        "    y = torch.stack([data[i+1:i+block_size+1] for i in ix])\n",
        "    return x, y\n",
        "\n",
        "xb, yb = get_batch('train')\n",
        "print('inputs:')\n",
        "print(xb.shape)\n",
        "print(xb)\n",
        "print('targets:')\n",
        "print(yb.shape)\n",
        "print(yb)\n",
        "\n",
        "print('----')\n",
        "\n",
        "for b in range(batch_size): # batch dimension\n",
        "    for t in range(block_size): # time dimension\n",
        "        context = xb[b, :t+1]\n",
        "        target = yb[b,t]\n",
        "        print(f\"when input is {context.tolist()} the target: {target}\")"
      ],
      "metadata": {
        "colab": {
          "base_uri": "https://localhost:8080/"
        },
        "id": "N85AFEuqHUgw",
        "outputId": "629c60ce-a959-4144-b26a-6943ab0ce78f"
      },
      "execution_count": 42,
      "outputs": [
        {
          "output_type": "stream",
          "name": "stdout",
          "text": [
            "inputs:\n",
            "torch.Size([4, 8])\n",
            "tensor([[36, 28, 36, 27, 17,  6,  0, 35],\n",
            "        [34,  1, 17, 19, 19, 21, 27, 21],\n",
            "        [ 1, 28, 25, 35, 25, 23, 17, 35],\n",
            "        [33, 27, 25, 21, 33,  1, 19, 30]])\n",
            "targets:\n",
            "torch.Size([4, 8])\n",
            "tensor([[28, 36, 27, 17,  6,  0, 35, 25],\n",
            "        [ 1, 17, 19, 19, 21, 27, 21, 33],\n",
            "        [28, 25, 35, 25, 23, 17, 35, 25],\n",
            "        [27, 25, 21, 33,  1, 19, 30, 29]])\n",
            "----\n",
            "when input is [36] the target: 28\n",
            "when input is [36, 28] the target: 36\n",
            "when input is [36, 28, 36] the target: 27\n",
            "when input is [36, 28, 36, 27] the target: 17\n",
            "when input is [36, 28, 36, 27, 17] the target: 6\n",
            "when input is [36, 28, 36, 27, 17, 6] the target: 0\n",
            "when input is [36, 28, 36, 27, 17, 6, 0] the target: 35\n",
            "when input is [36, 28, 36, 27, 17, 6, 0, 35] the target: 25\n",
            "when input is [34] the target: 1\n",
            "when input is [34, 1] the target: 17\n",
            "when input is [34, 1, 17] the target: 19\n",
            "when input is [34, 1, 17, 19] the target: 19\n",
            "when input is [34, 1, 17, 19, 19] the target: 21\n",
            "when input is [34, 1, 17, 19, 19, 21] the target: 27\n",
            "when input is [34, 1, 17, 19, 19, 21, 27] the target: 21\n",
            "when input is [34, 1, 17, 19, 19, 21, 27, 21] the target: 33\n",
            "when input is [1] the target: 28\n",
            "when input is [1, 28] the target: 25\n",
            "when input is [1, 28, 25] the target: 35\n",
            "when input is [1, 28, 25, 35] the target: 25\n",
            "when input is [1, 28, 25, 35, 25] the target: 23\n",
            "when input is [1, 28, 25, 35, 25, 23] the target: 17\n",
            "when input is [1, 28, 25, 35, 25, 23, 17] the target: 35\n",
            "when input is [1, 28, 25, 35, 25, 23, 17, 35] the target: 25\n",
            "when input is [33] the target: 27\n",
            "when input is [33, 27] the target: 25\n",
            "when input is [33, 27, 25] the target: 21\n",
            "when input is [33, 27, 25, 21] the target: 33\n",
            "when input is [33, 27, 25, 21, 33] the target: 1\n",
            "when input is [33, 27, 25, 21, 33, 1] the target: 19\n",
            "when input is [33, 27, 25, 21, 33, 1, 19] the target: 30\n",
            "when input is [33, 27, 25, 21, 33, 1, 19, 30] the target: 29\n"
          ]
        }
      ]
    },
    {
      "cell_type": "code",
      "source": [
        "print(xb) # our input to the transformer"
      ],
      "metadata": {
        "colab": {
          "base_uri": "https://localhost:8080/"
        },
        "id": "5EwQRd32HWa4",
        "outputId": "b08a673b-e2b0-46c3-d483-a7dca98ab633"
      },
      "execution_count": 43,
      "outputs": [
        {
          "output_type": "stream",
          "name": "stdout",
          "text": [
            "tensor([[36, 28, 36, 27, 17,  6,  0, 35],\n",
            "        [34,  1, 17, 19, 19, 21, 27, 21],\n",
            "        [ 1, 28, 25, 35, 25, 23, 17, 35],\n",
            "        [33, 27, 25, 21, 33,  1, 19, 30]])\n"
          ]
        }
      ]
    },
    {
      "cell_type": "code",
      "source": [
        "import torch\n",
        "import torch.nn as nn\n",
        "from torch.nn import functional as F\n",
        "torch.manual_seed(1337)\n",
        "\n",
        "class BigramLanguageModel(nn.Module):\n",
        "\n",
        "    def __init__(self, vocab_size):\n",
        "        super().__init__()\n",
        "        # each token directly reads off the logits for the next token from a lookup table\n",
        "        self.token_embedding_table = nn.Embedding(vocab_size, vocab_size)\n",
        "\n",
        "    def forward(self, idx, targets=None):\n",
        "\n",
        "        # idx and targets are both (B,T) tensor of integers\n",
        "        logits = self.token_embedding_table(idx) # (B,T,C)\n",
        "\n",
        "        if targets is None:\n",
        "            loss = None\n",
        "        else:\n",
        "            B, T, C = logits.shape\n",
        "            logits = logits.view(B*T, C)\n",
        "            targets = targets.view(B*T)\n",
        "            loss = F.cross_entropy(logits, targets)\n",
        "\n",
        "        return logits, loss\n",
        "\n",
        "    def generate(self, idx, max_new_tokens):\n",
        "        # idx is (B, T) array of indices in the current context\n",
        "        for _ in range(max_new_tokens):\n",
        "            # get the predictions\n",
        "            logits, loss = self(idx)\n",
        "            # focus only on the last time step\n",
        "            logits = logits[:, -1, :] # becomes (B, C)\n",
        "            # apply softmax to get probabilities\n",
        "            probs = F.softmax(logits, dim=-1) # (B, C)\n",
        "            # sample from the distribution\n",
        "            idx_next = torch.multinomial(probs, num_samples=1) # (B, 1)\n",
        "            # append sampled index to the running sequence\n",
        "            idx = torch.cat((idx, idx_next), dim=1) # (B, T+1)\n",
        "        return idx\n",
        "\n",
        "m = BigramLanguageModel(vocab_size)\n",
        "logits, loss = m(xb, yb)\n",
        "print(logits.shape)\n",
        "print(loss)\n",
        "\n",
        "print(decode(m.generate(idx = torch.zeros((1, 1), dtype=torch.long), max_new_tokens=100)[0].tolist()))\n"
      ],
      "metadata": {
        "colab": {
          "base_uri": "https://localhost:8080/"
        },
        "id": "05iz0GhmHZVT",
        "outputId": "100c5de1-68df-4829-fbde-fd8047865df2"
      },
      "execution_count": 44,
      "outputs": [
        {
          "output_type": "stream",
          "name": "stdout",
          "text": [
            "torch.Size([32, 42])\n",
            "tensor(4.3706, grad_fn=<NllLossBackward0>)\n",
            "\n",
            "-vl; He;igm\"uu(czc.pAm)\n",
            "OtAzchsOs\n",
            "bAu/td /TF/yz)xMt-H/acm.hHsH:v\"ob,\"vhOt.niaF:oF\"o-vgf;tFFOtFaM-.n;\n"
          ]
        }
      ]
    },
    {
      "cell_type": "code",
      "source": [
        "# create a PyTorch optimizer\n",
        "optimizer = torch.optim.AdamW(m.parameters(), lr=1e-3)"
      ],
      "metadata": {
        "id": "nVvcEEF6Hazi"
      },
      "execution_count": 45,
      "outputs": []
    },
    {
      "cell_type": "code",
      "source": [
        "batch_size = 32\n",
        "for steps in range(100): # increase number of steps for good results...\n",
        "\n",
        "    # sample a batch of data\n",
        "    xb, yb = get_batch('train')\n",
        "\n",
        "    # evaluate the loss\n",
        "    logits, loss = m(xb, yb)\n",
        "    optimizer.zero_grad(set_to_none=True)\n",
        "    loss.backward()\n",
        "    optimizer.step()\n",
        "\n",
        "print(loss.item())\n"
      ],
      "metadata": {
        "colab": {
          "base_uri": "https://localhost:8080/"
        },
        "id": "agnvXNqHHdRA",
        "outputId": "e5876035-09c0-44bf-9c79-62d0742c23ad"
      },
      "execution_count": 46,
      "outputs": [
        {
          "output_type": "stream",
          "name": "stdout",
          "text": [
            "4.178332328796387\n"
          ]
        }
      ]
    },
    {
      "cell_type": "code",
      "source": [
        "print(decode(m.generate(idx = torch.zeros((1, 1), dtype=torch.long), max_new_tokens=500)[0].tolist()))"
      ],
      "metadata": {
        "colab": {
          "base_uri": "https://localhost:8080/"
        },
        "id": "lmWcqbRPHemg",
        "outputId": "d99df099-288d-4a35-996f-5ac5d04a522f"
      },
      "execution_count": 47,
      "outputs": [
        {
          "output_type": "stream",
          "name": "stdout",
          "text": [
            "\n",
            "OrMuchuzf:.nx)eFmmst\"og/pHe\"ug/pz,)/tbrHMOF);t,mMmczA:/T)AzrOteo /(qlb:/bA wyk\n",
            ":-l/ng/prg/b,xeOi:muz\n",
            "Fw:\"O.gpiuTbqoAkrn wbgHm Ta(; zll.nhzO/pzrh,)eFqdOylz)OtwoHsllm/veF;iOtFqi/iOsuz\n",
            "T;aMAe\"T; FzFwxt:v;dllm/bred-f-;/b;-HeFFapAAgophbiMF)OxmczlkhOhywip)pAzeytnkrH:-/buzMx\"\"dmoAArqMmn;d/usH\n",
            "OoH -)/buu-sAfv; ryAwo wb,oe\n",
            "p:Akihg) yFmnuo,btx\n",
            "pluuvnAy\n",
            "shxi;/i;a;bHeogkqvmyTg;i/\"wxzqbdwnbl F:(be) c:zt.)gTvFszp,z\n",
            "/.gqmu(OeMmmuMF)Ott)xqg.g;anxucc:o-bo,,\" cstm) :bsrqzbsztmysMzk\n",
            "pHpAflxt\"uccc:\n",
            "OyTh\"/h Fkyzc:Ti\n"
          ]
        }
      ]
    },
    {
      "cell_type": "code",
      "source": [
        "# toy example illustrating how matrix multiplication can be used for a \"weighted aggregation\"\n",
        "torch.manual_seed(42)\n",
        "a = torch.tril(torch.ones(3, 3))\n",
        "a = a / torch.sum(a, 1, keepdim=True)\n",
        "b = torch.randint(0,10,(3,2)).float()\n",
        "c = a @ b\n",
        "print('a=')\n",
        "print(a)\n",
        "print('--')\n",
        "print('b=')\n",
        "print(b)\n",
        "print('--')\n",
        "print('c=')\n",
        "print(c)"
      ],
      "metadata": {
        "colab": {
          "base_uri": "https://localhost:8080/"
        },
        "id": "bx5yxramHg_d",
        "outputId": "afe976d1-86c4-406e-eba6-87dac6788fc4"
      },
      "execution_count": 48,
      "outputs": [
        {
          "output_type": "stream",
          "name": "stdout",
          "text": [
            "a=\n",
            "tensor([[1.0000, 0.0000, 0.0000],\n",
            "        [0.5000, 0.5000, 0.0000],\n",
            "        [0.3333, 0.3333, 0.3333]])\n",
            "--\n",
            "b=\n",
            "tensor([[2., 7.],\n",
            "        [6., 4.],\n",
            "        [6., 5.]])\n",
            "--\n",
            "c=\n",
            "tensor([[2.0000, 7.0000],\n",
            "        [4.0000, 5.5000],\n",
            "        [4.6667, 5.3333]])\n"
          ]
        }
      ]
    },
    {
      "cell_type": "code",
      "source": [
        "# consider the following toy example:\n",
        "\n",
        "torch.manual_seed(1337)\n",
        "B,T,C = 4,8,2 # batch, time, channels\n",
        "x = torch.randn(B,T,C)\n",
        "x.shape"
      ],
      "metadata": {
        "colab": {
          "base_uri": "https://localhost:8080/"
        },
        "id": "b0PUEek1HjBc",
        "outputId": "87252894-d590-4a52-daec-97e1094e403a"
      },
      "execution_count": 49,
      "outputs": [
        {
          "output_type": "execute_result",
          "data": {
            "text/plain": [
              "torch.Size([4, 8, 2])"
            ]
          },
          "metadata": {},
          "execution_count": 49
        }
      ]
    },
    {
      "cell_type": "code",
      "source": [
        "# We want x[b,t] = mean_{i<=t} x[b,i]\n",
        "xbow = torch.zeros((B,T,C))\n",
        "for b in range(B):\n",
        "    for t in range(T):\n",
        "        xprev = x[b,:t+1] # (t,C)\n",
        "        xbow[b,t] = torch.mean(xprev, 0)\n"
      ],
      "metadata": {
        "id": "xU07unbhHk6G"
      },
      "execution_count": 50,
      "outputs": []
    },
    {
      "cell_type": "code",
      "source": [
        "# version 2: using matrix multiply for a weighted aggregation\n",
        "wei = torch.tril(torch.ones(T, T))\n",
        "wei = wei / wei.sum(1, keepdim=True)\n",
        "xbow2 = wei @ x # (B, T, T) @ (B, T, C) ----> (B, T, C)\n",
        "torch.allclose(xbow, xbow2)"
      ],
      "metadata": {
        "colab": {
          "base_uri": "https://localhost:8080/"
        },
        "id": "31XUdonGHnYp",
        "outputId": "e0965095-b577-436f-aa09-21337cf53178"
      },
      "execution_count": 51,
      "outputs": [
        {
          "output_type": "execute_result",
          "data": {
            "text/plain": [
              "False"
            ]
          },
          "metadata": {},
          "execution_count": 51
        }
      ]
    },
    {
      "cell_type": "code",
      "source": [
        "# version 4: self-attention!\n",
        "torch.manual_seed(1337)\n",
        "B,T,C = 4,8,32 # batch, time, channels\n",
        "x = torch.randn(B,T,C)\n",
        "\n",
        "# let's see a single Head perform self-attention\n",
        "head_size = 16\n",
        "key = nn.Linear(C, head_size, bias=False)\n",
        "query = nn.Linear(C, head_size, bias=False)\n",
        "value = nn.Linear(C, head_size, bias=False)\n",
        "k = key(x)   # (B, T, 16)\n",
        "q = query(x) # (B, T, 16)\n",
        "wei =  q @ k.transpose(-2, -1) # (B, T, 16) @ (B, 16, T) ---> (B, T, T)\n",
        "\n",
        "tril = torch.tril(torch.ones(T, T))\n",
        "#wei = torch.zeros((T,T))\n",
        "wei = wei.masked_fill(tril == 0, float('-inf'))\n",
        "wei = F.softmax(wei, dim=-1)\n",
        "\n",
        "v = value(x)\n",
        "out = wei @ v\n",
        "#out = wei @ x\n",
        "\n",
        "out.shape"
      ],
      "metadata": {
        "colab": {
          "base_uri": "https://localhost:8080/"
        },
        "id": "h1mUcxffHpD4",
        "outputId": "a0012afd-2a85-4811-871b-cc1e8d09b7ac"
      },
      "execution_count": 52,
      "outputs": [
        {
          "output_type": "execute_result",
          "data": {
            "text/plain": [
              "torch.Size([4, 8, 16])"
            ]
          },
          "metadata": {},
          "execution_count": 52
        }
      ]
    },
    {
      "cell_type": "code",
      "source": [
        "wei[0]"
      ],
      "metadata": {
        "colab": {
          "base_uri": "https://localhost:8080/"
        },
        "id": "QPelcCE-Hq8S",
        "outputId": "0e1d3342-0e39-4295-d7b4-c088488b75a1"
      },
      "execution_count": 53,
      "outputs": [
        {
          "output_type": "execute_result",
          "data": {
            "text/plain": [
              "tensor([[1.0000, 0.0000, 0.0000, 0.0000, 0.0000, 0.0000, 0.0000, 0.0000],\n",
              "        [0.1574, 0.8426, 0.0000, 0.0000, 0.0000, 0.0000, 0.0000, 0.0000],\n",
              "        [0.2088, 0.1646, 0.6266, 0.0000, 0.0000, 0.0000, 0.0000, 0.0000],\n",
              "        [0.5792, 0.1187, 0.1889, 0.1131, 0.0000, 0.0000, 0.0000, 0.0000],\n",
              "        [0.0294, 0.1052, 0.0469, 0.0276, 0.7909, 0.0000, 0.0000, 0.0000],\n",
              "        [0.0176, 0.2689, 0.0215, 0.0089, 0.6812, 0.0019, 0.0000, 0.0000],\n",
              "        [0.1691, 0.4066, 0.0438, 0.0416, 0.1048, 0.2012, 0.0329, 0.0000],\n",
              "        [0.0210, 0.0843, 0.0555, 0.2297, 0.0573, 0.0709, 0.2423, 0.2391]],\n",
              "       grad_fn=<SelectBackward0>)"
            ]
          },
          "metadata": {},
          "execution_count": 53
        }
      ]
    },
    {
      "cell_type": "markdown",
      "source": [
        "\n",
        "\n",
        "Notes:\n",
        "\n",
        "* Attention is a communication mechanism. Can be seen as nodes in a directed graph looking at each other and aggregating information with a weighted sum from all nodes that point to them, with data-dependent weights.\n",
        "\n",
        "* There is no notion of space. Attention simply acts over a set of vectors. This is why we need to positionally encode tokens.\n",
        "\n",
        "* Each example across batch dimension is of course processed completely independently and never \"talk\" to each other\n",
        "\n",
        "* In an \"encoder\" attention block just delete the single line that does masking with tril, allowing all tokens to communicate. This block here is called a \"decoder\" attention block because it has triangular masking, and is usually used in autoregressive settings, like language modeling.\n",
        "\n",
        "* \"self-attention\" just means that the keys and values are produced from the same source as queries. In \"cross-attention\", the queries still get produced from x, but the keys and values come from some other, external source (e.g. an encoder module)\n",
        "\n",
        "* \"Scaled\" attention additional divides wei by 1/sqrt(head_size). This makes it so when input Q,K are unit variance, wei will be unit variance too and Softmax will stay diffuse and not saturate too much. Illustration below\n",
        "\n",
        "\n",
        "\n",
        "\n",
        "\n"
      ],
      "metadata": {
        "id": "9GIl7NjsHwmQ"
      }
    },
    {
      "cell_type": "code",
      "source": [
        "k = torch.randn(B,T,head_size)\n",
        "q = torch.randn(B,T,head_size)\n",
        "wei = q @ k.transpose(-2, -1) * head_size**-0.5"
      ],
      "metadata": {
        "id": "-8CdQySsHtDh"
      },
      "execution_count": 54,
      "outputs": []
    },
    {
      "cell_type": "code",
      "source": [
        "k.var()"
      ],
      "metadata": {
        "colab": {
          "base_uri": "https://localhost:8080/"
        },
        "id": "L2KxLCmqITKW",
        "outputId": "2620c95f-0d5b-4306-b841-71fcd8494f66"
      },
      "execution_count": 55,
      "outputs": [
        {
          "output_type": "execute_result",
          "data": {
            "text/plain": [
              "tensor(1.0449)"
            ]
          },
          "metadata": {},
          "execution_count": 55
        }
      ]
    },
    {
      "cell_type": "code",
      "source": [
        "q.var()"
      ],
      "metadata": {
        "colab": {
          "base_uri": "https://localhost:8080/"
        },
        "id": "JPBmCbfZIUsN",
        "outputId": "d32194a6-4035-463d-984e-ee109d6beb01"
      },
      "execution_count": 56,
      "outputs": [
        {
          "output_type": "execute_result",
          "data": {
            "text/plain": [
              "tensor(1.0700)"
            ]
          },
          "metadata": {},
          "execution_count": 56
        }
      ]
    },
    {
      "cell_type": "code",
      "source": [
        "wei.var()"
      ],
      "metadata": {
        "colab": {
          "base_uri": "https://localhost:8080/"
        },
        "id": "5eJEvvu9IWYH",
        "outputId": "ce1733d1-5504-4494-8d11-ba0d4e185d2f"
      },
      "execution_count": 57,
      "outputs": [
        {
          "output_type": "execute_result",
          "data": {
            "text/plain": [
              "tensor(1.0918)"
            ]
          },
          "metadata": {},
          "execution_count": 57
        }
      ]
    },
    {
      "cell_type": "code",
      "source": [
        "torch.softmax(torch.tensor([0.1, -0.2, 0.3, -0.2, 0.5]), dim=-1)"
      ],
      "metadata": {
        "colab": {
          "base_uri": "https://localhost:8080/"
        },
        "id": "Te35qwOMIYN3",
        "outputId": "6e392a3f-1d27-4b64-9881-d07751a7708a"
      },
      "execution_count": 58,
      "outputs": [
        {
          "output_type": "execute_result",
          "data": {
            "text/plain": [
              "tensor([0.1925, 0.1426, 0.2351, 0.1426, 0.2872])"
            ]
          },
          "metadata": {},
          "execution_count": 58
        }
      ]
    },
    {
      "cell_type": "code",
      "source": [
        "torch.softmax(torch.tensor([0.1, -0.2, 0.3, -0.2, 0.5])*8, dim=-1) # gets too peaky, converges to one-hot"
      ],
      "metadata": {
        "colab": {
          "base_uri": "https://localhost:8080/"
        },
        "id": "JEVXvjV5IaIB",
        "outputId": "fc319de8-720e-4446-af5b-53277c38ff8d"
      },
      "execution_count": 59,
      "outputs": [
        {
          "output_type": "execute_result",
          "data": {
            "text/plain": [
              "tensor([0.0326, 0.0030, 0.1615, 0.0030, 0.8000])"
            ]
          },
          "metadata": {},
          "execution_count": 59
        }
      ]
    },
    {
      "cell_type": "code",
      "source": [
        "class LayerNorm1d: # (used to be BatchNorm1d)\n",
        "\n",
        "  def __init__(self, dim, eps=1e-5, momentum=0.1):\n",
        "    self.eps = eps\n",
        "    self.gamma = torch.ones(dim)\n",
        "    self.beta = torch.zeros(dim)\n",
        "\n",
        "  def __call__(self, x):\n",
        "    # calculate the forward pass\n",
        "    xmean = x.mean(1, keepdim=True) # batch mean\n",
        "    xvar = x.var(1, keepdim=True) # batch variance\n",
        "    xhat = (x - xmean) / torch.sqrt(xvar + self.eps) # normalize to unit variance\n",
        "    self.out = self.gamma * xhat + self.beta\n",
        "    return self.out\n",
        "\n",
        "  def parameters(self):\n",
        "    return [self.gamma, self.beta]\n",
        "\n",
        "torch.manual_seed(1337)\n",
        "module = LayerNorm1d(100)\n",
        "x = torch.randn(32, 100) # batch size 32 of 100-dimensional vectors\n",
        "x = module(x)\n",
        "x.shape"
      ],
      "metadata": {
        "colab": {
          "base_uri": "https://localhost:8080/"
        },
        "id": "urQZej6SIdw5",
        "outputId": "680b6bd9-3958-4800-f820-a10fce3f8f21"
      },
      "execution_count": 60,
      "outputs": [
        {
          "output_type": "execute_result",
          "data": {
            "text/plain": [
              "torch.Size([32, 100])"
            ]
          },
          "metadata": {},
          "execution_count": 60
        }
      ]
    },
    {
      "cell_type": "code",
      "source": [
        "x[:,0].mean(), x[:,0].std() # mean,std of one feature across all batch inputs"
      ],
      "metadata": {
        "colab": {
          "base_uri": "https://localhost:8080/"
        },
        "id": "YUqK1kARIfgm",
        "outputId": "5694a55a-366d-45c6-a583-8f9a92123e36"
      },
      "execution_count": 61,
      "outputs": [
        {
          "output_type": "execute_result",
          "data": {
            "text/plain": [
              "(tensor(0.1469), tensor(0.8803))"
            ]
          },
          "metadata": {},
          "execution_count": 61
        }
      ]
    },
    {
      "cell_type": "code",
      "source": [
        "x[0,:].mean(), x[0,:].std() # mean,std of a single input from the batch, of its features"
      ],
      "metadata": {
        "colab": {
          "base_uri": "https://localhost:8080/"
        },
        "id": "IYxWsl0_Ih6V",
        "outputId": "050a3789-64d9-4e51-f9a1-b8d20f37efd3"
      },
      "execution_count": 62,
      "outputs": [
        {
          "output_type": "execute_result",
          "data": {
            "text/plain": [
              "(tensor(-9.5367e-09), tensor(1.0000))"
            ]
          },
          "metadata": {},
          "execution_count": 62
        }
      ]
    },
    {
      "cell_type": "code",
      "source": [],
      "metadata": {
        "id": "1K6NPC0aIjo9"
      },
      "execution_count": 62,
      "outputs": []
    },
    {
      "cell_type": "code",
      "source": [],
      "metadata": {
        "id": "LYfNG9ceItKP"
      },
      "execution_count": 62,
      "outputs": []
    },
    {
      "cell_type": "code",
      "source": [
        "import torch\n",
        "import torch.nn as nn\n",
        "from torch.nn import functional as F\n",
        "\n",
        "# hyperparameters\n",
        "batch_size = 16 # how many independent sequences will we process in parallel?\n",
        "block_size = 32 # what is the maximum context length for predictions?\n",
        "max_iters = 5000\n",
        "eval_interval = 100\n",
        "learning_rate = 1e-3\n",
        "device = 'cuda' if torch.cuda.is_available() else 'cpu'\n",
        "eval_iters = 200\n",
        "n_embd = 64\n",
        "n_head = 4\n",
        "n_layer = 4\n",
        "dropout = 0.0\n",
        "# ------------\n",
        "\n",
        "torch.manual_seed(1337)\n",
        "\n",
        "# wget https://raw.githubusercontent.com/karpathy/char-rnn/master/data/tinyshakespeare/input.txt\n",
        "with open('/content/colab.txt', 'r', encoding='utf-8') as f:\n",
        "    text = f.read()\n",
        "\n",
        "# here are all the unique characters that occur in this text\n",
        "chars = sorted(list(set(text)))\n",
        "vocab_size = len(chars)\n",
        "# create a mapping from characters to integers\n",
        "stoi = { ch:i for i,ch in enumerate(chars) }\n",
        "itos = { i:ch for i,ch in enumerate(chars) }\n",
        "encode = lambda s: [stoi[c] for c in s] # encoder: take a string, output a list of integers\n",
        "decode = lambda l: ''.join([itos[i] for i in l]) # decoder: take a list of integers, output a string\n",
        "\n",
        "# Train and test splits\n",
        "data = torch.tensor(encode(text), dtype=torch.long)\n",
        "n = int(0.9*len(data)) # first 90% will be train, rest val\n",
        "train_data = data[:n]\n",
        "val_data = data[n:]\n",
        "\n",
        "# data loading\n",
        "def get_batch(split):\n",
        "    # generate a small batch of data of inputs x and targets y\n",
        "    data = train_data if split == 'train' else val_data\n",
        "    ix = torch.randint(len(data) - block_size, (batch_size,))\n",
        "    x = torch.stack([data[i:i+block_size] for i in ix])\n",
        "    y = torch.stack([data[i+1:i+block_size+1] for i in ix])\n",
        "    x, y = x.to(device), y.to(device)\n",
        "    return x, y\n",
        "\n",
        "@torch.no_grad()\n",
        "def estimate_loss():\n",
        "    out = {}\n",
        "    model.eval()\n",
        "    for split in ['train', 'val']:\n",
        "        losses = torch.zeros(eval_iters)\n",
        "        for k in range(eval_iters):\n",
        "            X, Y = get_batch(split)\n",
        "            logits, loss = model(X, Y)\n",
        "            losses[k] = loss.item()\n",
        "        out[split] = losses.mean()\n",
        "    model.train()\n",
        "    return out\n",
        "\n",
        "class Head(nn.Module):\n",
        "    \"\"\" one head of self-attention \"\"\"\n",
        "\n",
        "    def __init__(self, head_size):\n",
        "        super().__init__()\n",
        "        self.key = nn.Linear(n_embd, head_size, bias=False)\n",
        "        self.query = nn.Linear(n_embd, head_size, bias=False)\n",
        "        self.value = nn.Linear(n_embd, head_size, bias=False)\n",
        "        self.register_buffer('tril', torch.tril(torch.ones(block_size, block_size)))\n",
        "\n",
        "        self.dropout = nn.Dropout(dropout)\n",
        "\n",
        "    def forward(self, x):\n",
        "        B,T,C = x.shape\n",
        "        k = self.key(x)   # (B,T,C)\n",
        "        q = self.query(x) # (B,T,C)\n",
        "        # compute attention scores (\"affinities\")\n",
        "        wei = q @ k.transpose(-2,-1) * C**-0.5 # (B, T, C) @ (B, C, T) -> (B, T, T)\n",
        "        wei = wei.masked_fill(self.tril[:T, :T] == 0, float('-inf')) # (B, T, T)\n",
        "        wei = F.softmax(wei, dim=-1) # (B, T, T)\n",
        "        wei = self.dropout(wei)\n",
        "        # perform the weighted aggregation of the values\n",
        "        v = self.value(x) # (B,T,C)\n",
        "        out = wei @ v # (B, T, T) @ (B, T, C) -> (B, T, C)\n",
        "        return out\n",
        "\n",
        "class MultiHeadAttention(nn.Module):\n",
        "    \"\"\" multiple heads of self-attention in parallel \"\"\"\n",
        "\n",
        "    def __init__(self, num_heads, head_size):\n",
        "        super().__init__()\n",
        "        self.heads = nn.ModuleList([Head(head_size) for _ in range(num_heads)])\n",
        "        self.proj = nn.Linear(n_embd, n_embd)\n",
        "        self.dropout = nn.Dropout(dropout)\n",
        "\n",
        "    def forward(self, x):\n",
        "        out = torch.cat([h(x) for h in self.heads], dim=-1)\n",
        "        out = self.dropout(self.proj(out))\n",
        "        return out\n",
        "\n",
        "class FeedFoward(nn.Module):\n",
        "    \"\"\" a simple linear layer followed by a non-linearity \"\"\"\n",
        "\n",
        "    def __init__(self, n_embd):\n",
        "        super().__init__()\n",
        "        self.net = nn.Sequential(\n",
        "            nn.Linear(n_embd, 4 * n_embd),\n",
        "            nn.ReLU(),\n",
        "            nn.Linear(4 * n_embd, n_embd),\n",
        "            nn.Dropout(dropout),\n",
        "        )\n",
        "\n",
        "    def forward(self, x):\n",
        "        return self.net(x)\n",
        "\n",
        "class Block(nn.Module):\n",
        "    \"\"\" Transformer block: communication followed by computation \"\"\"\n",
        "\n",
        "    def __init__(self, n_embd, n_head):\n",
        "        # n_embd: embedding dimension, n_head: the number of heads we'd like\n",
        "        super().__init__()\n",
        "        head_size = n_embd // n_head\n",
        "        self.sa = MultiHeadAttention(n_head, head_size)\n",
        "        self.ffwd = FeedFoward(n_embd)\n",
        "        self.ln1 = nn.LayerNorm(n_embd)\n",
        "        self.ln2 = nn.LayerNorm(n_embd)\n",
        "\n",
        "    def forward(self, x):\n",
        "        x = x + self.sa(self.ln1(x))\n",
        "        x = x + self.ffwd(self.ln2(x))\n",
        "        return x\n",
        "\n",
        "# super simple bigram model\n",
        "class BigramLanguageModel(nn.Module):\n",
        "\n",
        "    def __init__(self):\n",
        "        super().__init__()\n",
        "        # each token directly reads off the logits for the next token from a lookup table\n",
        "        self.token_embedding_table = nn.Embedding(vocab_size, n_embd)\n",
        "        self.position_embedding_table = nn.Embedding(block_size, n_embd)\n",
        "        self.blocks = nn.Sequential(*[Block(n_embd, n_head=n_head) for _ in range(n_layer)])\n",
        "        self.ln_f = nn.LayerNorm(n_embd) # final layer norm\n",
        "        self.lm_head = nn.Linear(n_embd, vocab_size)\n",
        "\n",
        "    def forward(self, idx, targets=None):\n",
        "        B, T = idx.shape\n",
        "\n",
        "        # idx and targets are both (B,T) tensor of integers\n",
        "        tok_emb = self.token_embedding_table(idx) # (B,T,C)\n",
        "        pos_emb = self.position_embedding_table(torch.arange(T, device=device)) # (T,C)\n",
        "        x = tok_emb + pos_emb # (B,T,C)\n",
        "        x = self.blocks(x) # (B,T,C)\n",
        "        x = self.ln_f(x) # (B,T,C)\n",
        "        logits = self.lm_head(x) # (B,T,vocab_size)\n",
        "\n",
        "        if targets is None:\n",
        "            loss = None\n",
        "        else:\n",
        "            B, T, C = logits.shape\n",
        "            logits = logits.view(B*T, C)\n",
        "            targets = targets.view(B*T)\n",
        "            loss = F.cross_entropy(logits, targets)\n",
        "\n",
        "        return logits, loss\n",
        "\n",
        "    def generate(self, idx, max_new_tokens):\n",
        "        # idx is (B, T) array of indices in the current context\n",
        "        for _ in range(max_new_tokens):\n",
        "            # crop idx to the last block_size tokens\n",
        "            idx_cond = idx[:, -block_size:]\n",
        "            # get the predictions\n",
        "            logits, loss = self(idx_cond)\n",
        "            # focus only on the last time step\n",
        "            logits = logits[:, -1, :] # becomes (B, C)\n",
        "            # apply softmax to get probabilities\n",
        "            probs = F.softmax(logits, dim=-1) # (B, C)\n",
        "            # sample from the distribution\n",
        "            idx_next = torch.multinomial(probs, num_samples=1) # (B, 1)\n",
        "            # append sampled index to the running sequence\n",
        "            idx = torch.cat((idx, idx_next), dim=1) # (B, T+1)\n",
        "        return idx\n",
        "\n",
        "model = BigramLanguageModel()\n",
        "m = model.to(device)\n",
        "# print the number of parameters in the model\n",
        "print(sum(p.numel() for p in m.parameters())/1e6, 'M parameters')\n",
        "\n",
        "# create a PyTorch optimizer\n",
        "optimizer = torch.optim.AdamW(model.parameters(), lr=learning_rate)\n",
        "\n",
        "for iter in range(max_iters):\n",
        "\n",
        "    # every once in a while evaluate the loss on train and val sets\n",
        "    if iter % eval_interval == 0 or iter == max_iters - 1:\n",
        "        losses = estimate_loss()\n",
        "        print(f\"step {iter}: train loss {losses['train']:.4f}, val loss {losses['val']:.4f}\")\n",
        "\n",
        "    # sample a batch of data\n",
        "    xb, yb = get_batch('train')\n",
        "\n",
        "    # evaluate the loss\n",
        "    logits, loss = model(xb, yb)\n",
        "    optimizer.zero_grad(set_to_none=True)\n",
        "    loss.backward()\n",
        "    optimizer.step()\n",
        "\n",
        "# generate from the model\n",
        "context = torch.zeros((1, 1), dtype=torch.long, device=device)\n",
        "print(decode(m.generate(context, max_new_tokens=2000)[0].tolist()))\n"
      ],
      "metadata": {
        "colab": {
          "base_uri": "https://localhost:8080/"
        },
        "id": "YYm1qOwiItk5",
        "outputId": "f2761499-2196-4bed-a919-8fa77041e94c"
      },
      "execution_count": 64,
      "outputs": [
        {
          "output_type": "stream",
          "name": "stdout",
          "text": [
            "0.206762 M parameters\n",
            "step 0: train loss 3.9456, val loss 3.9453\n",
            "step 100: train loss 2.3736, val loss 2.5351\n",
            "step 200: train loss 2.0985, val loss 2.4558\n",
            "step 300: train loss 1.7942, val loss 2.3243\n",
            "step 400: train loss 1.3388, val loss 2.3915\n",
            "step 500: train loss 0.8862, val loss 2.5634\n",
            "step 600: train loss 0.5558, val loss 2.8338\n",
            "step 700: train loss 0.4075, val loss 3.0585\n",
            "step 800: train loss 0.3437, val loss 3.1835\n",
            "step 900: train loss 0.2912, val loss 3.2144\n",
            "step 1000: train loss 0.2662, val loss 3.4171\n",
            "step 1100: train loss 0.2514, val loss 3.4914\n",
            "step 1200: train loss 0.2344, val loss 3.5919\n",
            "step 1300: train loss 0.2411, val loss 3.6716\n",
            "step 1400: train loss 0.2277, val loss 3.6423\n",
            "step 1500: train loss 0.2256, val loss 3.8070\n",
            "step 1600: train loss 0.2156, val loss 3.7726\n",
            "step 1700: train loss 0.2180, val loss 3.8916\n",
            "step 1800: train loss 0.2026, val loss 3.8077\n",
            "step 1900: train loss 0.2050, val loss 3.7837\n",
            "step 2000: train loss 0.2066, val loss 3.8423\n",
            "step 2100: train loss 0.1981, val loss 3.7720\n",
            "step 2200: train loss 0.2028, val loss 3.9679\n",
            "step 2300: train loss 0.1894, val loss 4.0533\n",
            "step 2400: train loss 0.1966, val loss 3.9831\n",
            "step 2500: train loss 0.1923, val loss 3.9412\n",
            "step 2600: train loss 0.1912, val loss 3.9833\n",
            "step 2700: train loss 0.1894, val loss 3.9009\n",
            "step 2800: train loss 0.1888, val loss 3.9395\n",
            "step 2900: train loss 0.1920, val loss 3.8878\n",
            "step 3000: train loss 0.1915, val loss 3.8444\n",
            "step 3100: train loss 0.1858, val loss 4.0011\n",
            "step 3200: train loss 0.1876, val loss 4.1571\n",
            "step 3300: train loss 0.1854, val loss 3.9924\n",
            "step 3400: train loss 0.1890, val loss 4.0670\n",
            "step 3500: train loss 0.1856, val loss 3.9954\n",
            "step 3600: train loss 0.1869, val loss 4.1310\n",
            "step 3700: train loss 0.1794, val loss 4.0557\n",
            "step 3800: train loss 0.1813, val loss 4.1243\n",
            "step 3900: train loss 0.1757, val loss 3.9614\n",
            "step 4000: train loss 0.1821, val loss 4.0189\n",
            "step 4100: train loss 0.1794, val loss 4.0617\n",
            "step 4200: train loss 0.1827, val loss 4.0889\n",
            "step 4300: train loss 0.1782, val loss 4.2509\n",
            "step 4400: train loss 0.1836, val loss 4.1822\n",
            "step 4500: train loss 0.1842, val loss 4.0398\n",
            "step 4600: train loss 0.1784, val loss 4.2430\n",
            "step 4700: train loss 0.1795, val loss 4.0629\n",
            "step 4800: train loss 0.1758, val loss 4.0902\n",
            "step 4900: train loss 0.1739, val loss 4.0246\n",
            "step 4999: train loss 0.1752, val loss 4.1822\n",
            "\n",
            "mechanism also memorizes more errors and thus accelerates error propagation when errlier content and maintain consistent temporal dependencies, whereas\n",
            "\"drifting\" refers to the iterative degradation of visual quality due to error accumulation over time\n",
            "(also called ers that temporal consistency and reduces the\n",
            "occurrence of initial errors, thereby mitigating drifting. On the other hand, a stronger memorizing\n",
            "mechanism also memorizes more errors and thus accelerates error propagation when errlier gencoder maing redredre-ction models for video generation. Herein, \"forgetting\" refers to the fading of memory as the\n",
            "model struggles to remember earlier content and maintain consistent temporal dependencies, whereas\n",
            "\"drifting\" refers to the iterative degradation of visual quality tratic-gation\n",
            "\"Fl-cers tony memorizing mechanisms from multiple aspects. The source\n",
            "of drifting lies in initial errors that occur in individA framental dilas., viderrove (als.\n",
            "The forgetting problem leads to a naive solution to encode more frames, but this quickly becomes\n",
            "computation  reduces the\n",
            "occurrence of indering memorizing mechanism leads to bettettential to design errby time\n",
            "(also lembeads to a. niiver time\n",
            "(also called exposure bias).\n",
            "A fundamental dilemma emerges when attempting to simultaneously address both forgetting and\n",
            "drifting: any method that mitigates forgetting by enhancing memory may also make error accumula-\n",
            "tion/propagation faster, thereby eacnt drifting problem is influenced by memorizing mechanisms from multiple aspects. The source\n",
            "of drifting lies in initial errors that occur in individual frames, while the effect is the propagation\n",
            "and accumula-\n",
            "tion/propagation faster, thereby ant the  stemporal dependencies, whereas\n",
            "\"drifting\" refers to the iterative degradation of visual quality due to error accumulation over time\n",
            "(also called exposure bias).\n",
            "A fundamental dilemma emerges when attempting to simultaneously address both forgetting. This essential trade-off hinders the sca\n"
          ]
        }
      ]
    },
    {
      "cell_type": "code",
      "source": [],
      "metadata": {
        "id": "EhEYGtszIuh8"
      },
      "execution_count": null,
      "outputs": []
    }
  ]
}